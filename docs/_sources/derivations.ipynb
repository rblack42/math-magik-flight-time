{
 "cells": [
  {
   "cell_type": "markdown",
   "id": "a5b79a73",
   "metadata": {},
   "source": [
    "# Derivation of Equations\n",
    "\n",
    "In this section, we will use the Python *SymPy* [cite]`sympy` symbolic math package to work through the derivation of the equations found in Doug McLeans paper [cite]`mclean`."
   ]
  },
  {
   "cell_type": "markdown",
   "id": "a2da250e",
   "metadata": {},
   "source": [
    "## Advance Ratio\n",
    "\n",
    "One of the references cited in DOug's papae is the chapter on Peopellers found in Von MIse's *Theory of FLight* [cite]`vonmises`. Mycopy, which cost all of $3.95, was obtained when I first started off as a freshman at Virginia Tech back in 1965!\n",
    "\n",
    "The advance ratio of a propeller is defined as follows:\n",
    "\n",
    "\\begin{equation}\n",
    "J = \\frac{V}{nd}\n",
    "\\end{equation}\n",
    "\n",
    "Where V is the flight velocity, **n** is the propeller speed in rotationa per second, and **d** is the propeller diameter.\n",
    "\n",
    "Let's set this up in SymPy:"
   ]
  },
  {
   "cell_type": "code",
   "execution_count": 3,
   "id": "9f8908db",
   "metadata": {},
   "outputs": [],
   "source": [
    "import sympy\n",
    "V,n,d = sympy.symbols('V n d')"
   ]
  },
  {
   "cell_type": "code",
   "execution_count": 21,
   "id": "8d5e3a7e",
   "metadata": {},
   "outputs": [
    {
     "data": {
      "text/latex": [
       "$\\displaystyle \\frac{V}{d n}$"
      ],
      "text/plain": [
       "V/(d*n)"
      ]
     },
     "execution_count": 21,
     "metadata": {},
     "output_type": "execute_result"
    }
   ],
   "source": [
    "J = V / (n * d)\n",
    "J"
   ]
  },
  {
   "cell_type": "markdown",
   "id": "77c5edb7",
   "metadata": {},
   "source": [
    "### Propeller Thrust Equation"
   ]
  },
  {
   "cell_type": "markdown",
   "id": "aa2d9c18",
   "metadata": {},
   "source": [
    "The definition of the Reynolds number is:\n",
    "\n",
    "\\begin{equation}\n",
    "Re = \\frac{\\rho u L}{\\mu}\n",
    "\\end{equation}\n",
    "\n",
    "Where $\\rho$ is the air density, **u** is a reference velocity, **L** is a reference length, and $\\mu$ is the dynamic viscosity of air. These air properties can be found using the *Standard Atmospheric Model* at [standard Atmosphere Calculator](https://www.digitaldutch.com/atmoscalc/).\n",
    "\n",
    "For our propeller, we will use the propellor diameter **d** as the reference length"
   ]
  },
  {
   "cell_type": "code",
   "execution_count": 27,
   "id": "86feda41",
   "metadata": {},
   "outputs": [
    {
     "data": {
      "text/latex": [
       "$\\displaystyle \\frac{d \\rho u}{\\mu}$"
      ],
      "text/plain": [
       "d*rho*u/mu"
      ]
     },
     "execution_count": 27,
     "metadata": {},
     "output_type": "execute_result"
    }
   ],
   "source": [
    "rho, u, mu = sympy.symbols('rho u mu')\n",
    "Re = rho * u * d / mu\n",
    "Re"
   ]
  },
  {
   "cell_type": "markdown",
   "id": "983e5043",
   "metadata": {},
   "source": [
    "The dynamic pressure is defined as:\n",
    "\n",
    "\\begin{equation}\n",
    "q = \\frac{1}{2}\\rho u^2\n",
    "\\end{equation}"
   ]
  },
  {
   "cell_type": "code",
   "execution_count": 28,
   "id": "e8b07159",
   "metadata": {},
   "outputs": [
    {
     "data": {
      "text/latex": [
       "$\\displaystyle \\frac{\\rho u^{2}}{2}$"
      ],
      "text/plain": [
       "rho*u**2/2"
      ]
     },
     "execution_count": 28,
     "metadata": {},
     "output_type": "execute_result"
    }
   ],
   "source": [
    "q = rho * u**2/2\n",
    "q"
   ]
  },
  {
   "cell_type": "markdown",
   "id": "71c25aaa",
   "metadata": {},
   "source": [
    "Let **nd** be the reference velocity. Then we can generate the reynolds number and dynamic pressure equations as follows:"
   ]
  },
  {
   "cell_type": "code",
   "execution_count": 29,
   "id": "279a443c",
   "metadata": {},
   "outputs": [
    {
     "data": {
      "text/latex": [
       "$\\displaystyle \\frac{d^{2} n \\rho}{\\mu}$"
      ],
      "text/plain": [
       "d**2*n*rho/mu"
      ]
     },
     "execution_count": 29,
     "metadata": {},
     "output_type": "execute_result"
    }
   ],
   "source": [
    "Re_p = Re.subs(u, n*d)\n",
    "Re_p"
   ]
  },
  {
   "cell_type": "code",
   "execution_count": 30,
   "id": "08f6ce19",
   "metadata": {},
   "outputs": [
    {
     "data": {
      "text/latex": [
       "$\\displaystyle \\frac{d^{2} n^{2} \\rho}{2}$"
      ],
      "text/plain": [
       "d**2*n**2*rho/2"
      ]
     },
     "execution_count": 30,
     "metadata": {},
     "output_type": "execute_result"
    }
   ],
   "source": [
    "q_p = q.subs(u, n*d)\n",
    "q_p"
   ]
  },
  {
   "cell_type": "markdown",
   "id": "26e5097c",
   "metadata": {},
   "source": [
    "Now define the thrust of the propeller as the product of the reference area, the dynamic pressure, and a thrust coefficient $C_t$.\n",
    "\n",
    "\\begin{equation}\n",
    "T = q d^2 C_t\n",
    "\\end{equation}"
   ]
  },
  {
   "cell_type": "code",
   "execution_count": 31,
   "id": "374e43c5",
   "metadata": {},
   "outputs": [
    {
     "data": {
      "text/latex": [
       "$\\displaystyle C_{t} d^{4} n^{2} \\rho$"
      ],
      "text/plain": [
       "C_t*d**4*n**2*rho"
      ]
     },
     "execution_count": 31,
     "metadata": {},
     "output_type": "execute_result"
    }
   ],
   "source": [
    "C_t = sympy.symbols('C_t')\n",
    "T = q_p * d**2 * C_t * 2\n",
    "T\n"
   ]
  },
  {
   "cell_type": "markdown",
   "id": "9a512274",
   "metadata": {},
   "source": [
    "Here, the $\\frac{1}{2}$ has been absorbed into $C_t$."
   ]
  },
  {
   "cell_type": "markdown",
   "id": "2eff9c68",
   "metadata": {},
   "source": [
    "### Propeller Torque Equation\n",
    "\n",
    "The torque is the moment of the propeller with respect to the propeller axis, and has another length attribute. We will define this as $$Q$$.\n",
    "\n",
    "\\begin{equation}\n",
    "Q = q d^3 C_q\n",
    "\\end{equation}"
   ]
  },
  {
   "cell_type": "code",
   "execution_count": 34,
   "id": "ecf27915",
   "metadata": {},
   "outputs": [
    {
     "data": {
      "text/latex": [
       "$\\displaystyle C_{q} d^{5} n^{2} \\rho$"
      ],
      "text/plain": [
       "C_q*d**5*n**2*rho"
      ]
     },
     "execution_count": 34,
     "metadata": {},
     "output_type": "execute_result"
    }
   ],
   "source": [
    "C_q = sympy.symbols('C_q')\n",
    "Q = q_p * d **3 * C_q * 2\n",
    "Q\n"
   ]
  },
  {
   "cell_type": "markdown",
   "id": "5bd302f4",
   "metadata": {},
   "source": [
    "### Propeller Power\n",
    "\n",
    "The power delivered by the propeller is defined as follows:\n",
    "\n",
    "\\begin{equation}\n",
    "P = 2pi Q n\n",
    "\\end{equation}"
   ]
  },
  {
   "cell_type": "code",
   "execution_count": 35,
   "id": "ae9e1684",
   "metadata": {},
   "outputs": [
    {
     "data": {
      "text/latex": [
       "$\\displaystyle 2 \\pi C_{q} d^{5} n^{3} \\rho$"
      ],
      "text/plain": [
       "2*pi*C_q*d**5*n**3*rho"
      ]
     },
     "execution_count": 35,
     "metadata": {},
     "output_type": "execute_result"
    }
   ],
   "source": [
    "P = 2 * sympy.pi * Q * n\n",
    "P"
   ]
  },
  {
   "cell_type": "markdown",
   "id": "f130a4bf",
   "metadata": {},
   "source": [
    "If we define $C_p$ as $\\frac{C_q}{2 \\pi}$, this becomes:"
   ]
  },
  {
   "cell_type": "code",
   "execution_count": 42,
   "id": "b2052b70",
   "metadata": {},
   "outputs": [
    {
     "data": {
      "text/latex": [
       "$\\displaystyle C_{p} d^{5} n^{3} \\rho$"
      ],
      "text/plain": [
       "C_p*d**5*n**3*rho"
      ]
     },
     "execution_count": 42,
     "metadata": {},
     "output_type": "execute_result"
    }
   ],
   "source": [
    "C_p = sympy.symbols('C_p')\n",
    "P_p = P.subs(C_q, C_p /(2 * sympy.pi))\n",
    "P_p"
   ]
  },
  {
   "cell_type": "markdown",
   "id": "1c96bab6",
   "metadata": {},
   "source": [
    "### Propeller Efficiency\n",
    "\n",
    "The efficiency of the propeller  is defined as the product of the advance ratio **J** and the ratio o f the coefficients of thrust and power.\n",
    "\n",
    "\\begin{equation}\n",
    "\\eta = J \\frac{C_t}{C_p}\n",
    "\\end{equation}"
   ]
  },
  {
   "cell_type": "code",
   "execution_count": 43,
   "id": "c5f4da43",
   "metadata": {},
   "outputs": [
    {
     "data": {
      "text/latex": [
       "$\\displaystyle \\frac{C_{t} V}{C_{p} d n}$"
      ],
      "text/plain": [
       "C_t*V/(C_p*d*n)"
      ]
     },
     "execution_count": 43,
     "metadata": {},
     "output_type": "execute_result"
    }
   ],
   "source": [
    "eta = J * C_t / C_p\n",
    "eta"
   ]
  },
  {
   "cell_type": "code",
   "execution_count": null,
   "id": "64ba3059",
   "metadata": {},
   "outputs": [],
   "source": []
  }
 ],
 "metadata": {
  "kernelspec": {
   "display_name": "Python 3 (ipykernel)",
   "language": "python",
   "name": "python3"
  },
  "language_info": {
   "codemirror_mode": {
    "name": "ipython",
    "version": 3
   },
   "file_extension": ".py",
   "mimetype": "text/x-python",
   "name": "python",
   "nbconvert_exporter": "python",
   "pygments_lexer": "ipython3",
   "version": "3.9.9"
  }
 },
 "nbformat": 4,
 "nbformat_minor": 5
}
