{
 "cells": [
  {
   "cell_type": "markdown",
   "id": "e947f849",
   "metadata": {},
   "source": [
    "# Estimating Indoor Model Flight Times"
   ]
  },
  {
   "cell_type": "markdown",
   "id": "ed721c78",
   "metadata": {},
   "source": [
    "This article is part of the [Math Magik](https://rblack42.github.io/math-magik) project. I started this project in 2020 as part of my plan to build a Python application to assist model builders in designing and flying indoor model airplanes. The initial effort, published in the 2021 issue of the NFFS Symposium {cite}`rblack` focused on using OpenSCAD and some supporting Python code to design a model and analyze the proposed design to calculate weight and balance data.\n",
    "\n",
    "This article seeks to add Python code that can help predict the flying time for an indoor model using data extracted from the OpenSCAD design, or entered manually for other designs. It is based on work published by Doug McLean in the 1976 edition of the NFFS Symposium {cite}`mclean`. This article will revisit his technique, complete with a more formal derivation of the equations used, and present Python code suitable for use in today's computer driven world!\n",
    "    \n",
    "At present, this is a work in progress. I invite all interested readers to contact me for help, or to offer suggestions on how I can improve this project. My goal is to provide information and tools helpful to builders of all ages (well, maybe those who are at least into some math studies, which usually happens in high school!) I am trying to keep the math approachable by all readers, but this is tough to do since much of aeronautical engineering depends on advanced math concepts. All math presented has been verified using a neat Python tool called *SymPy*. With a little setup work, you should be able to recreate all of the examples presented here on your own personal computer.\n",
    "\n",
    "\n",
    "- Roie R. Black\n",
    "- B.S., M.S., Aerospace Engineering, Virginia Tech\n",
    "- M.S., Computer Science, Texas State University\n",
    "- Major, USAF (retired)\n",
    "- AMA 18079"
   ]
  },
  {
   "cell_type": "code",
   "execution_count": null,
   "id": "94972319",
   "metadata": {},
   "outputs": [],
   "source": []
  }
 ],
 "metadata": {
  "kernelspec": {
   "display_name": "Python 3 (ipykernel)",
   "language": "python",
   "name": "python3"
  },
  "language_info": {
   "codemirror_mode": {
    "name": "ipython",
    "version": 3
   },
   "file_extension": ".py",
   "mimetype": "text/x-python",
   "name": "python",
   "nbconvert_exporter": "python",
   "pygments_lexer": "ipython3",
   "version": "3.9.9"
  },
  "toc": {
   "base_numbering": 1,
   "nav_menu": {},
   "number_sections": true,
   "sideBar": true,
   "skip_h1_title": false,
   "title_cell": "Table of Contents",
   "title_sidebar": "Contents",
   "toc_cell": false,
   "toc_position": {},
   "toc_section_display": true,
   "toc_window_display": false
  }
 },
 "nbformat": 4,
 "nbformat_minor": 5
}
