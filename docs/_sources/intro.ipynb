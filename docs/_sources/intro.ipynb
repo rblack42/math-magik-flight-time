{
 "cells": [
  {
   "cell_type": "markdown",
   "id": "e947f849",
   "metadata": {},
   "source": [
    "# Estimating Indoor Model Flight Times"
   ]
  },
  {
   "cell_type": "markdown",
   "id": "678b7982",
   "metadata": {},
   "source": [
    "In the 1976 edition of the NFFS Symposium, Doug McLean presented a paper on estimating indoor model flight times {cite}`mclean`. My goal in this paper is to recreate the calculation procedure outline by DOug and validate this trchnique using test data taken from a fellow club member Gary Hodson's award winning \"Wart\" A6 model. \n",
    "\n",
    "to get started, we will set up a few data items from Gary's best flight. We will be using Python **pint** to track units, so we set that system up first."
   ]
  },
  {
   "cell_type": "code",
   "execution_count": 8,
   "id": "4ec434ea",
   "metadata": {},
   "outputs": [],
   "source": [
    "import pint\n",
    "u = pint.UnitRegistry()\n",
    "Q_ = u.Quantity"
   ]
  },
  {
   "cell_type": "code",
   "execution_count": 12,
   "id": "98c68098",
   "metadata": {},
   "outputs": [],
   "source": [
    "wart_motor_weight = 0.86 * u.grams\n",
    "wart_best_time = 618 * u.seconds\n",
    "motor_turns = 3660\n",
    "kiby_dome_elevation = 2160 * u.feet\n",
    "kiby_dome_height = 150 * u.feet"
   ]
  },
  {
   "cell_type": "markdown",
   "id": "89ed2438",
   "metadata": {},
   "source": [
    "Doug starts off by assuming that the total flight time is proportional to the energy in the rubber motor divided by the thrust power of the propeller.\n",
    "\n",
    "$$\n",
    "\\begin{equation}\n",
    "t = \\eta_{av} \\frac{E}{P}\n",
    "\\end{equation}\n",
    "$$"
   ]
  },
  {
   "cell_type": "markdown",
   "id": "ad191429",
   "metadata": {},
   "source": [
    "Where:\n",
    "    \n",
    "- **t** is the flight time in seconds\n",
    "- **E** is the energy stored in the rubber motor in kilogram meters\n",
    "- **P** is the thrust power (thrust x speed) required to stay in level flight in pound-force seconds\n",
    "- $\\eta_{av}$ is a proportionality constant averaged over the entire flight\n"
   ]
  },
  {
   "cell_type": "markdown",
   "id": "5a65b6d5",
   "metadata": {},
   "source": [
    "Next, Doug assumes that the energy stored in the motor depends primarily on motor weight according to the formula:"
   ]
  },
  {
   "cell_type": "markdown",
   "id": "12f4b575",
   "metadata": {},
   "source": [
    "$$\n",
    "\\begin{equation}\n",
    "E = k_m W_m\n",
    "\\end{equation}\n",
    "$$"
   ]
  },
  {
   "cell_type": "markdown",
   "id": "fc8adf8c",
   "metadata": {},
   "source": [
    "Where:\n",
    "    - k_m is a constant = 30,000 inches\n",
    "    - w_m is the motor weight in grams\n",
    "    \n",
    "We will need to convert these items to a standard energy unit system.\n",
    "\n",
    "For the Wart, we get this:"
   ]
  },
  {
   "cell_type": "code",
   "execution_count": 18,
   "id": "6e77a531",
   "metadata": {},
   "outputs": [
    {
     "name": "stdout",
     "output_type": "stream",
     "text": [
      "0.65532 kilogram * meter\n"
     ]
    }
   ],
   "source": [
    "k_m = 30000 * u.inches\n",
    "E = k_m * wart_motor_weight\n",
    "print(E.to_base_units())"
   ]
  },
  {
   "cell_type": "code",
   "execution_count": null,
   "id": "435ac706",
   "metadata": {},
   "outputs": [],
   "source": []
  }
 ],
 "metadata": {
  "kernelspec": {
   "display_name": "Python 3 (ipykernel)",
   "language": "python",
   "name": "python3"
  },
  "language_info": {
   "codemirror_mode": {
    "name": "ipython",
    "version": 3
   },
   "file_extension": ".py",
   "mimetype": "text/x-python",
   "name": "python",
   "nbconvert_exporter": "python",
   "pygments_lexer": "ipython3",
   "version": "3.9.9"
  }
 },
 "nbformat": 4,
 "nbformat_minor": 5
}
