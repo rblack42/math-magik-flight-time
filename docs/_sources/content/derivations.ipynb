{
 "cells": [
  {
   "cell_type": "markdown",
   "id": "a5b79a73",
   "metadata": {},
   "source": [
    "# Derivation of Equations\n",
    "\n",
    "In this section, we will use the Python *SymPy* {cite}`sympy` symbolic math package to work through the derivation of the equations found in Doug McLean's paper {cite}`mclean`.\n",
    "\n",
    "The derivations use Python *SymPy* to to most mathematical manipulations. *SymPy* is a symbolic math package that knows a lot of advanced math. I will keep the examples as simple as possible, and will try to explain what is going on as we work through this material. \n",
    "\n",
    "```{warning} Parential Alert!\n",
    "Parents may want to hide this tool from their kids. It makes hard math surprisingly easy. Of course, you can use *SymPy* to figure out that kid's homework. YMMV!\n",
    "```"
   ]
  },
  {
   "cell_type": "markdown",
   "id": "a2da250e",
   "metadata": {},
   "source": [
    "## Advance Ratio\n",
    "\n",
    "One of the references cited in Doug's paper is the chapter on Peopellers found in Von Mises' *Theory of Flight* {cite}`vonmises`. My copy  of this book, which cost all of \\$3.95, was obtained when I first started off as a freshman at Virginia Tech back in 1965!\n",
    "\n",
    "The *advance ratio* of a propeller is defined as follows:\n",
    "\n",
    "\\begin{equation}\n",
    "J = \\frac{V}{nd}\n",
    "\\end{equation}\n",
    "\n",
    "Where **V** is the flight velocity, **n** is the propeller speed in rotations per second, and **d** is the propeller diameter.\n",
    "\n",
    "Let's set this up in *SymPy*:"
   ]
  },
  {
   "cell_type": "code",
   "execution_count": 1,
   "id": "9f8908db",
   "metadata": {},
   "outputs": [],
   "source": [
    "import sympy\n",
    "V,n,d = sympy.symbols('V n d')"
   ]
  },
  {
   "cell_type": "markdown",
   "id": "fb9fda84",
   "metadata": {},
   "source": [
    "The first line above initializes the *SymPy* package. The last line tells Python (and *SymPy*) that we want to use the names **V**, **n**, and **d** as *symbols*, not normal Python variables. This is essential when using the *SymPy* system.\n",
    "\n",
    "With this setup complete, we can create our first *SymPy* expression. "
   ]
  },
  {
   "cell_type": "code",
   "execution_count": 4,
   "id": "8d5e3a7e",
   "metadata": {},
   "outputs": [],
   "source": [
    "J = V / (n * d)"
   ]
  },
  {
   "cell_type": "markdown",
   "id": "ae6fbd7d",
   "metadata": {
    "variables": {
     "J": "$\\displaystyle \\frac{V}{d n}$"
    }
   },
   "source": [
    "J = {{J}}"
   ]
  },
  {
   "cell_type": "markdown",
   "id": "1f205944",
   "metadata": {},
   "source": [
    "This line creates a symbolic expression and saves it in the Python variable **J**. This looks exactly like the equation above, however **J** is just a normal Python variable holding special *SymPy* constructs that allow it to process the symbolic expression we created. \n",
    "\n",
    "The display shown above looks exactly like the original equation we displayed earlier. However, the **J =** part is not part of the *SymPy* expression. That is just a printing trick I am using so you can verify that the expression on the right hand side of the **=** is correct."
   ]
  },
  {
   "cell_type": "markdown",
   "id": "77c5edb7",
   "metadata": {},
   "source": [
    "### Reynolds Number"
   ]
  },
  {
   "cell_type": "markdown",
   "id": "aa2d9c18",
   "metadata": {},
   "source": [
    "In 1883, Osborne Reynolds discovered an interesting combination of variables that helped classify when water flowing through a pipe at different speeds transitioned from smooth flow called *laminar* flow, to a more complex flow called *turbulent* flow. Eventually this combinations was named after Reynolds and has been used ever since as a fundamental tool for classifying the kinds of air flows a vehicle might encounter.\n",
    "\n",
    "The definition of the Reynolds number is:\n",
    "\n",
    "\\begin{equation}\n",
    "Re = \\frac{\\rho u L}{\\mu}\n",
    "\\end{equation}\n",
    "\n",
    "Where $\\rho$ is the air density, **u** is a reference velocity, **L** is a reference length, and $\\mu$ is the dynamic viscosity of air. These air properties can be found using the *Standard Atmospheric Model* at [Standard Atmosphere Calculator](https://www.digitaldutch.com/atmoscalc/).\n",
    "\n",
    "For our propeller work, we will use the propeller diameter **d** as the reference length. For our propeller, which is just a complex rotating wing, the *Reynolds Number* expression will be specified as follows:"
   ]
  },
  {
   "cell_type": "code",
   "execution_count": 20,
   "id": "86feda41",
   "metadata": {},
   "outputs": [],
   "source": [
    "rho, u, mu = sympy.symbols('rho u mu')\n",
    "Re = rho * u * d / mu"
   ]
  },
  {
   "cell_type": "markdown",
   "id": "b56390c7",
   "metadata": {
    "variables": {
     "Re": "$\\displaystyle \\frac{d \\rho u}{\\mu}$"
    }
   },
   "source": [
    "Re = {{Re}}"
   ]
  },
  {
   "cell_type": "markdown",
   "id": "983e5043",
   "metadata": {},
   "source": [
    "The dynamic pressure is defined as:\n",
    "\n",
    "\\begin{equation}\n",
    "q = \\frac{1}{2}\\rho u^2\n",
    "\\end{equation}"
   ]
  },
  {
   "cell_type": "code",
   "execution_count": 8,
   "id": "e8b07159",
   "metadata": {},
   "outputs": [],
   "source": [
    "q = rho * u**2/2"
   ]
  },
  {
   "cell_type": "markdown",
   "id": "ee25aa02",
   "metadata": {
    "variables": {
     "q": "$\\displaystyle \\frac{\\rho u^{2}}{2}$"
    }
   },
   "source": [
    "q = {{q}}"
   ]
  },
  {
   "cell_type": "markdown",
   "id": "71c25aaa",
   "metadata": {},
   "source": [
    "Let **nd** be the reference velocity. Then we can generate the reynolds number and dynamic pressure equations as follows:"
   ]
  },
  {
   "cell_type": "code",
   "execution_count": 18,
   "id": "279a443c",
   "metadata": {},
   "outputs": [
    {
     "data": {
      "text/latex": [
       "$\\displaystyle \\frac{d^{2} n \\rho}{\\mu}$"
      ],
      "text/plain": [
       "d**2*n*rho/mu"
      ]
     },
     "execution_count": 18,
     "metadata": {},
     "output_type": "execute_result"
    }
   ],
   "source": [
    "Rep = Re.subs(u, n*d)\n",
    "Rep"
   ]
  },
  {
   "cell_type": "markdown",
   "id": "bb8b30dc",
   "metadata": {
    "variables": {
     "Rep": "$\\displaystyle \\frac{d^{2} n \\rho}{\\mu}$"
    }
   },
   "source": [
    "$Re_p$ = {{Rep}}"
   ]
  },
  {
   "cell_type": "code",
   "execution_count": 22,
   "id": "08f6ce19",
   "metadata": {},
   "outputs": [],
   "source": [
    "q_p = q.subs(u, n*d)"
   ]
  },
  {
   "cell_type": "markdown",
   "id": "c636d2de",
   "metadata": {
    "variables": {
     "q_p": "$\\displaystyle \\frac{d^{2} n^{2} \\rho}{2}$"
    }
   },
   "source": [
    "$q_p$ = {{q_p}}"
   ]
  },
  {
   "cell_type": "markdown",
   "id": "26e5097c",
   "metadata": {},
   "source": [
    "Now define the thrust of the propeller as the product of the reference area, the dynamic pressure, and a thrust coefficient $C_t$.\n",
    "\n",
    "\\begin{equation}\n",
    "T = q d^2 C_t\n",
    "\\end{equation}"
   ]
  },
  {
   "cell_type": "code",
   "execution_count": 25,
   "id": "374e43c5",
   "metadata": {},
   "outputs": [],
   "source": [
    "C_t = sympy.symbols('C_t')\n",
    "T = q_p * d**2 * C_t * 2"
   ]
  },
  {
   "cell_type": "markdown",
   "id": "e8408259",
   "metadata": {
    "variables": {
     "T": "$\\displaystyle C_{t} d^{4} n^{2} \\rho$"
    }
   },
   "source": [
    "T = {{T}}"
   ]
  },
  {
   "cell_type": "markdown",
   "id": "9a512274",
   "metadata": {},
   "source": [
    "Here, the $\\frac{1}{2}$ has been absorbed into $C_t$."
   ]
  },
  {
   "cell_type": "markdown",
   "id": "2eff9c68",
   "metadata": {},
   "source": [
    "### Propeller Torque Equation\n",
    "\n",
    "The torque is the moment of the propeller with respect to the propeller axis, and has another length attribute. We will define this as $$Q$$.\n",
    "\n",
    "\\begin{equation}\n",
    "Q = q d^3 C_q\n",
    "\\end{equation}"
   ]
  },
  {
   "cell_type": "code",
   "execution_count": 26,
   "id": "ecf27915",
   "metadata": {},
   "outputs": [
    {
     "data": {
      "text/latex": [
       "$\\displaystyle C_{q} d^{5} n^{2} \\rho$"
      ],
      "text/plain": [
       "C_q*d**5*n**2*rho"
      ]
     },
     "execution_count": 26,
     "metadata": {},
     "output_type": "execute_result"
    }
   ],
   "source": [
    "C_q = sympy.symbols('C_q')\n",
    "Q = q_p * d **3 * C_q * 2\n",
    "Q\n"
   ]
  },
  {
   "cell_type": "markdown",
   "id": "5bd302f4",
   "metadata": {},
   "source": [
    "### Propeller Power\n",
    "\n",
    "The power delivered by the propeller is defined as follows:\n",
    "\n",
    "\\begin{equation}\n",
    "P = 2 \\pi Q n\n",
    "\\end{equation}"
   ]
  },
  {
   "cell_type": "code",
   "execution_count": 28,
   "id": "ae9e1684",
   "metadata": {},
   "outputs": [],
   "source": [
    "P = 2 * sympy.pi * Q * n"
   ]
  },
  {
   "cell_type": "markdown",
   "id": "f8a5f6f7",
   "metadata": {
    "variables": {
     "P": "$\\displaystyle 2 \\pi C_{q} d^{5} n^{3} \\rho$"
    }
   },
   "source": [
    "P = {{P}}"
   ]
  },
  {
   "cell_type": "markdown",
   "id": "f130a4bf",
   "metadata": {},
   "source": [
    "If we define $C_p$ as $\\frac{C_q}{2 \\pi}$, this becomes:"
   ]
  },
  {
   "cell_type": "code",
   "execution_count": 30,
   "id": "b2052b70",
   "metadata": {},
   "outputs": [
    {
     "data": {
      "text/latex": [
       "$\\displaystyle C_{p} d^{5} n^{3} \\rho$"
      ],
      "text/plain": [
       "C_p*d**5*n**3*rho"
      ]
     },
     "execution_count": 30,
     "metadata": {},
     "output_type": "execute_result"
    }
   ],
   "source": [
    "C_p = sympy.symbols('C_p')\n",
    "P_p = P.subs(C_q, C_p /(2 * sympy.pi))\n",
    "P_p"
   ]
  },
  {
   "cell_type": "markdown",
   "id": "1c96bab6",
   "metadata": {},
   "source": [
    "### Propeller Efficiency\n",
    "\n",
    "The efficiency of the propeller  is defined as the product of the advance ratio **J** and the ratio of the coefficients of thrust and power.\n",
    "\n",
    "\\begin{equation}\n",
    "\\eta = J \\frac{C_t}{C_p}\n",
    "\\end{equation}"
   ]
  },
  {
   "cell_type": "code",
   "execution_count": 31,
   "id": "c5f4da43",
   "metadata": {},
   "outputs": [
    {
     "data": {
      "text/latex": [
       "$\\displaystyle \\frac{C_{t} V}{C_{p} d n}$"
      ],
      "text/plain": [
       "C_t*V/(C_p*d*n)"
      ]
     },
     "execution_count": 31,
     "metadata": {},
     "output_type": "execute_result"
    }
   ],
   "source": [
    "eta = J * C_t / C_p\n",
    "eta"
   ]
  },
  {
   "cell_type": "code",
   "execution_count": null,
   "id": "64ba3059",
   "metadata": {},
   "outputs": [],
   "source": []
  }
 ],
 "metadata": {
  "kernelspec": {
   "display_name": "Python 3 (ipykernel)",
   "language": "python",
   "name": "python3"
  },
  "language_info": {
   "codemirror_mode": {
    "name": "ipython",
    "version": 3
   },
   "file_extension": ".py",
   "mimetype": "text/x-python",
   "name": "python",
   "nbconvert_exporter": "python",
   "pygments_lexer": "ipython3",
   "version": "3.9.9"
  },
  "latex_envs": {
   "LaTeX_envs_menu_present": true,
   "autoclose": false,
   "autocomplete": true,
   "bibliofile": "biblio.bib",
   "cite_by": "apalike",
   "current_citInitial": 1,
   "eqLabelWithNumbers": true,
   "eqNumInitial": 1,
   "hotkeys": {
    "equation": "Ctrl-E",
    "itemize": "Ctrl-I"
   },
   "labels_anchors": false,
   "latex_user_defs": false,
   "report_style_numbering": false,
   "user_envs_cfg": false
  },
  "toc": {
   "base_numbering": 1,
   "nav_menu": {},
   "number_sections": true,
   "sideBar": true,
   "skip_h1_title": false,
   "title_cell": "Table of Contents",
   "title_sidebar": "Contents",
   "toc_cell": false,
   "toc_position": {},
   "toc_section_display": true,
   "toc_window_display": false
  }
 },
 "nbformat": 4,
 "nbformat_minor": 5
}
