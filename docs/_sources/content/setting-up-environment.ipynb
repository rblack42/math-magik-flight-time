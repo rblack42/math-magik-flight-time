{
 "cells": [
  {
   "cell_type": "markdown",
   "metadata": {},
   "source": [
    "# Setting up your computing environment\n",
    "\n",
    "I am assuming the most model builders reading this document own a computer running one of the big three operating systems: Windows (10+), mac (OSX), or Linux (I use Ubuntu ). There are several ways to set up your system so you can run this living book, or experiment on your own.\n",
    "\n",
    "- Install Anaconda on your machine. This is a complete Python development system that is easy to manage for beginners.\n",
    "- Set up a developer's Python environment and install Jupyter Book on your system (experts only!)\n",
    "- Use a cloud-based (free) environment that you can access with just a web browser."
   ]
  },
  {
   "cell_type": "markdown",
   "metadata": {},
   "source": [
    "## Installing Anaconda\n",
    "\n",
    "1. Follow the guide at the Anaconda website to [install Anaconda](https://docs.anaconda.com/anaconda/install/) on your system.\n",
    "\n",
    "2. Create and activate an environment (for example, called `mmagik`) for Jupyter with Python 3.9. From the command line for Linux and macOS, or the Anaconda Prompt on Windows, run:\n",
    "\n",
    "```bash\n",
    "$ conda create -vv --name mmagik --channel cantera --channel conda-forge python=3.9 cantera pint coolprop jupyter ipython numpy scipy matplotlib sympy\n",
    "$ conda activate mmagik\n",
    "```\n",
    "\n",
    "Before the second command, you may need to tell your shell (e.g., bash, zsh) about conda, by doing `conda init zsh` for example. If you get an error with the `conda activate` command, your terminal should tell you to do this.\n",
    "\n",
    "You should activate this environment whenever you want to use these packages.\n",
    "\n",
    "3. Run Jupyter Notebook:\n",
    "\n",
    "```bash\n",
    "$ jupyter notebook\n",
    "```\n",
    "\n",
    "and create a new Python 3 notebook with \"New\" then \"Python 3\" under \"Notebook:\"."
   ]
  },
  {
   "cell_type": "markdown",
   "metadata": {
    "tags": [
     "popout",
     "margin"
    ]
   },
   "source": [
    "```{margin}\n",
    "**Important:** You will need to reactivate your environment every time you restart Anaconda.\n",
    "```"
   ]
  },
  {
   "cell_type": "markdown",
   "metadata": {},
   "source": [
    "## Cloud Jupyter Notebook Environments\n",
    "\n",
    "If you cannot or prefer not to install Anaconda or set up a Python/Jupyter environment on your computer, you can use one of a number of cloud Jupyter Notebook environments to run these examples and do your work. Major options include:\n",
    "\n",
    " - [Google Colab](#Google-Colab)\n",
    " - [Binder](#Binder)\n",
    " - [Microsoft Azure Notebooks](#Microsoft-Azure-Notebooks)"
   ]
  },
  {
   "cell_type": "markdown",
   "metadata": {},
   "source": [
    "### Google Colab\n",
    "\n",
    "[Google Colab](https://colab.research.google.com) (Colaboratory) is a nice, newer service connected to your Google account that offers free computation time.\n",
    "\n",
    "In a new notebook, you need to first install Cantera:\n",
    "```bash\n",
    "!apt-get -qq update -y\n",
    "!apt-get -qq install -y python3-software-properties\n",
    "!apt-add-repository -y ppa:speth/cantera > /dev/null 2>&1\n",
    "!apt-get -qq install -y cantera-python3\n",
    "```\n",
    "and then additional packages like Pint and CoolProp:\n",
    "```bash\n",
    "!pip install -q pint coolprop\n",
    "```\n",
    "\n",
    "Or, click this link to open a notebook that includes these commands: [![Open In Colab](https://colab.research.google.com/assets/colab-badge.svg)](https://colab.research.google.com/github/kyleniemeyer/computational-thermo/blob/master/colab-demo.ipynb)\n",
    "\n",
    "(Other common packages like NumPy and SciPy should already be available.)"
   ]
  },
  {
   "cell_type": "markdown",
   "metadata": {},
   "source": [
    "### Binder\n",
    "\n",
    "[Binder](https://mybinder.org) is a service that runs Jupyter Notebooks online, and can automatically create an environment based on a configuration file:\n",
    "\n",
    "1. Visit https://mybinder.org\n",
    "2. Enter the URL for this textbook: https://github.com/kyleniemeyer/computational-thermo\n",
    "3. Click the \"launch\" button.\n",
    "\n",
    "Or, just use this link: [![Binder](https://mybinder.org/badge_logo.svg)](https://mybinder.org/v2/gh/kyleniemeyer/computational-thermo/master)"
   ]
  },
  {
   "cell_type": "markdown",
   "metadata": {},
   "source": [
    "### Microsoft Azure Notebooks\n",
    "\n",
    "With [Microsoft Azure Notebooks](https://notebooks.azure.com/), after signing in with your Microsoft or Outlook account, you can create a \"project\" which contains one or more notebooks, text files, data, etc.\n",
    "\n",
    "In a new Python 3 notebook, you can install Cantera, Pint, and CoolProp in the first cell using:\n",
    "```bash\n",
    "!conda install -y --channel cantera cantera\n",
    "!pip install pint coolprop\n",
    "```\n",
    "(This may take some time.)"
   ]
  }
 ],
 "metadata": {
  "celltoolbar": "Tags",
  "file_extension": ".py",
  "kernelspec": {
   "display_name": "Python 3 (ipykernel)",
   "language": "python",
   "name": "python3"
  },
  "language_info": {
   "codemirror_mode": {
    "name": "ipython",
    "version": 3
   },
   "file_extension": ".py",
   "mimetype": "text/x-python",
   "name": "python",
   "nbconvert_exporter": "python",
   "pygments_lexer": "ipython3",
   "version": "3.9.9"
  },
  "latex_envs": {
   "LaTeX_envs_menu_present": true,
   "autoclose": false,
   "autocomplete": true,
   "bibliofile": "biblio.bib",
   "cite_by": "apalike",
   "current_citInitial": 1,
   "eqLabelWithNumbers": true,
   "eqNumInitial": 1,
   "hotkeys": {
    "equation": "Ctrl-E",
    "itemize": "Ctrl-I"
   },
   "labels_anchors": false,
   "latex_user_defs": false,
   "report_style_numbering": false,
   "user_envs_cfg": false
  },
  "mimetype": "text/x-python",
  "name": "python",
  "npconvert_exporter": "python",
  "pygments_lexer": "ipython3",
  "toc": {
   "base_numbering": 1,
   "nav_menu": {},
   "number_sections": true,
   "sideBar": true,
   "skip_h1_title": false,
   "title_cell": "Table of Contents",
   "title_sidebar": "Contents",
   "toc_cell": false,
   "toc_position": {},
   "toc_section_display": true,
   "toc_window_display": false
  },
  "version": 3
 },
 "nbformat": 4,
 "nbformat_minor": 4
}
