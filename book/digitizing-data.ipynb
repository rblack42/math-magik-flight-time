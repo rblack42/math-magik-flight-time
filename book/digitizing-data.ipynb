{
 "cells": [
  {
   "cell_type": "markdown",
   "id": "4e2591c1",
   "metadata": {},
   "source": [
    "# Generating Aerodynamic Data\n",
    "\n",
    "Much of the analytical work in analyzing model performance depends on the basic set of aerodynamic coefficients for the chosen airfoils. Unfortunaletly, this data is hard to find, and often is located in PDF files you might be luck enough ot find online. Im my *Math Magic* project, I an using circular arc airfoils, so I went in search of data I could use. I found a report that had data for a 3% circular arc airfoil thta looked promising, and was able to download a copy of the report.\n",
    "\n",
    "The aerodynamic coefficient curves were in the report, but I wanted real data I could use. The problem was smple, I needed to digitize these curves somehow.\n",
    "\n",
    "## Capture Data Image\n",
    "\n",
    "The first step is easy. I can open up the report PDF and locate the graph I am interested in. I usually blow this graph up to as close to full screen as I can. Once it is on the screen, I use a screen capture program like *Snagit* on my Mac to capture and image with just the graph I want. \n",
    "\n",
    "## Digitizing the Image\n",
    "\n",
    "Next, I downloaded a nice digitizing tool: [WebPlotdigitizer](https://automeris.io/WebPlotDigitizer/index.html). Despite its name, there is a desktop application for all major applications that you can download and install.\n",
    "\n",
    "The digitizing process is pretty simple. You start the application and load an image file. Then you do a calibration where you select four points on the image, two each along the **x** and **y** axes. You will enter the coordinate values for these points so the program can properly scale your data.\n",
    "\n",
    "With the calibration complete, all you need to do is use your mouse to point to points on your image and click. The program will display a graphic on each point, which by default is a red dot. Once all of yourpoints are in place, you can save your data as a (JSON* file.\n",
    "\n",
    "The program has tools you can use to tweak your data and show it on a plot before you exit the program.\n",
    "\n",
    "## Circular Arc Data\n",
    "\n",
    "The data I managed to obtain is for a 3% circular arc airfoil at a *Reynolds Number* of about 5000, right where it needs to be for indoor models. Using my plotting code described earlier , here are those three coefficient curves."
   ]
  },
  {
   "cell_type": "code",
   "execution_count": 1,
   "id": "28fd8940",
   "metadata": {},
   "outputs": [],
   "source": [
    "import json"
   ]
  },
  {
   "cell_type": "code",
   "execution_count": 69,
   "id": "9ac9caa5",
   "metadata": {},
   "outputs": [],
   "source": [
    "def load_digitized_data(fn):\n",
    "    pset = []\n",
    "    with open(fn,'r') as fin:\n",
    "        data = json.load(fin)\n",
    "        p = data['datasetColl'][0]['data']\n",
    "        for i in p:\n",
    "            pset.append(i['value'])\n",
    "    return pset"
   ]
  },
  {
   "cell_type": "code",
   "execution_count": 76,
   "id": "ab0ecc96",
   "metadata": {},
   "outputs": [
    {
     "data": {
      "text/plain": [
       "[[-4.579439252336446, -0.34375000000000044],\n",
       " [-3.8317757009345783, -0.2604166666666665],\n",
       " [-3.084112149532709, -0.16666666666666652],\n",
       " [-2.33644859813084, -0.07291666666666674],\n",
       " [-1.5887850467289706, 0],\n",
       " [-0.8411214953271013, 0.08333333333333326],\n",
       " [0.6542056074766371, 0.25],\n",
       " [1.4018691588785046, 0.34375],\n",
       " [2.149532710280374, 0.4166666666666665],\n",
       " [2.8971962616822413, 0.4791666666666665],\n",
       " [3.6448598130841123, 0.5625],\n",
       " [4.392523364485983, 0.6458333333333335],\n",
       " [5.140186915887851, 0.8020833333333333],\n",
       " [5.887850467289718, 0.8854166666666666],\n",
       " [6.635514018691589, 0.9375],\n",
       " [7.383177570093457, 1.0208333333333335],\n",
       " [8.130841121495324, 1.0208333333333335],\n",
       " [8.878504672897195, 1.0520833333333333],\n",
       " [9.719626168224297, 1.0625],\n",
       " [10.373831775700934, 1.0520833333333333],\n",
       " [11.121495327102801, 1.0416666666666665],\n",
       " [11.869158878504672, 1],\n",
       " [12.710280373831774, 0.9791666666666666],\n",
       " [13.364485981308407, 0.9583333333333333],\n",
       " [14.205607476635512, 0.96875],\n",
       " [14.95327102803738, 0.9479166666666666],\n",
       " [15.70093457943925, 0.96875],\n",
       " [16.355140186915882, 0.9895833333333333],\n",
       " [17.102803738317753, 0.9895833333333333],\n",
       " [17.850467289719624, 0.9895833333333333],\n",
       " [18.691588785046726, 0.9895833333333333],\n",
       " [20.186915887850468, 1],\n",
       " [20.93457943925233, 1.0208333333333335],\n",
       " [21.588785046728972, 1.0416666666666665]]"
      ]
     },
     "execution_count": 76,
     "metadata": {},
     "output_type": "execute_result"
    }
   ],
   "source": [
    "c_l = load_digitized_data('../data/circular-arc-3%-Cl.json')\n",
    "c_l"
   ]
  },
  {
   "cell_type": "markdown",
   "id": "a9c72a64",
   "metadata": {},
   "source": [
    "To fit these data points, we need to split them out into two separate arrays."
   ]
  },
  {
   "cell_type": "code",
   "execution_count": 77,
   "id": "a1f67b91",
   "metadata": {},
   "outputs": [],
   "source": [
    "Cl = []\n",
    "alpha = []\n",
    "for p in c_l:\n",
    "    Cl.append(p[0])\n",
    "    alpha.append(p[1])"
   ]
  },
  {
   "cell_type": "code",
   "execution_count": 78,
   "id": "0baab9e3",
   "metadata": {},
   "outputs": [
    {
     "data": {
      "text/plain": [
       "[-4.579439252336446,\n",
       " -3.8317757009345783,\n",
       " -3.084112149532709,\n",
       " -2.33644859813084,\n",
       " -1.5887850467289706,\n",
       " -0.8411214953271013,\n",
       " 0.6542056074766371,\n",
       " 1.4018691588785046,\n",
       " 2.149532710280374,\n",
       " 2.8971962616822413,\n",
       " 3.6448598130841123,\n",
       " 4.392523364485983,\n",
       " 5.140186915887851,\n",
       " 5.887850467289718,\n",
       " 6.635514018691589,\n",
       " 7.383177570093457,\n",
       " 8.130841121495324,\n",
       " 8.878504672897195,\n",
       " 9.719626168224297,\n",
       " 10.373831775700934,\n",
       " 11.121495327102801,\n",
       " 11.869158878504672,\n",
       " 12.710280373831774,\n",
       " 13.364485981308407,\n",
       " 14.205607476635512,\n",
       " 14.95327102803738,\n",
       " 15.70093457943925,\n",
       " 16.355140186915882,\n",
       " 17.102803738317753,\n",
       " 17.850467289719624,\n",
       " 18.691588785046726,\n",
       " 20.186915887850468,\n",
       " 20.93457943925233,\n",
       " 21.588785046728972]"
      ]
     },
     "execution_count": 78,
     "metadata": {},
     "output_type": "execute_result"
    }
   ],
   "source": [
    "Cl"
   ]
  },
  {
   "cell_type": "code",
   "execution_count": 79,
   "id": "6959037a",
   "metadata": {},
   "outputs": [],
   "source": [
    "from scipy.interpolate import InterpolatedUnivariateSpline\n",
    "\n",
    "def fit_curve(xp, yp):\n",
    "    xi = np.array(xp)\n",
    "    yi = np.array(yp)\n",
    "    order = 1\n",
    "    s = InterpolatedUnivariateSpline(xi, yi, k=order)\n",
    "    return s"
   ]
  },
  {
   "cell_type": "code",
   "execution_count": 80,
   "id": "78c181e0",
   "metadata": {},
   "outputs": [],
   "source": [
    "CL_fit = fit_curve(Cl, alpha)"
   ]
  },
  {
   "cell_type": "code",
   "execution_count": 81,
   "id": "52eb9199",
   "metadata": {},
   "outputs": [
    {
     "data": {
      "text/plain": [
       "array(0.77278646)"
      ]
     },
     "execution_count": 81,
     "metadata": {},
     "output_type": "execute_result"
    }
   ],
   "source": [
    "CL_fit(5.0)"
   ]
  },
  {
   "cell_type": "code",
   "execution_count": null,
   "id": "bc30dcb8",
   "metadata": {},
   "outputs": [],
   "source": []
  }
 ],
 "metadata": {
  "kernelspec": {
   "display_name": "Python 3 (ipykernel)",
   "language": "python",
   "name": "python3"
  },
  "language_info": {
   "codemirror_mode": {
    "name": "ipython",
    "version": 3
   },
   "file_extension": ".py",
   "mimetype": "text/x-python",
   "name": "python",
   "nbconvert_exporter": "python",
   "pygments_lexer": "ipython3",
   "version": "3.9.9"
  },
  "latex_envs": {
   "LaTeX_envs_menu_present": true,
   "autoclose": false,
   "autocomplete": true,
   "bibliofile": "biblio.bib",
   "cite_by": "apalike",
   "current_citInitial": 1,
   "eqLabelWithNumbers": true,
   "eqNumInitial": 1,
   "hotkeys": {
    "equation": "Ctrl-E",
    "itemize": "Ctrl-I"
   },
   "labels_anchors": false,
   "latex_user_defs": false,
   "report_style_numbering": false,
   "user_envs_cfg": false
  },
  "toc": {
   "base_numbering": 1,
   "nav_menu": {},
   "number_sections": true,
   "sideBar": true,
   "skip_h1_title": false,
   "title_cell": "Table of Contents",
   "title_sidebar": "Contents",
   "toc_cell": false,
   "toc_position": {},
   "toc_section_display": true,
   "toc_window_display": false
  },
  "varInspector": {
   "cols": {
    "lenName": 16,
    "lenType": 16,
    "lenVar": 40
   },
   "kernels_config": {
    "python": {
     "delete_cmd_postfix": "",
     "delete_cmd_prefix": "del ",
     "library": "var_list.py",
     "varRefreshCmd": "print(var_dic_list())"
    },
    "r": {
     "delete_cmd_postfix": ") ",
     "delete_cmd_prefix": "rm(",
     "library": "var_list.r",
     "varRefreshCmd": "cat(var_dic_list()) "
    }
   },
   "types_to_exclude": [
    "module",
    "function",
    "builtin_function_or_method",
    "instance",
    "_Feature"
   ],
   "window_display": false
  }
 },
 "nbformat": 4,
 "nbformat_minor": 5
}
