{
 "cells": [
  {
   "cell_type": "markdown",
   "id": "93091ffa",
   "metadata": {},
   "source": [
    "# Walt Erbach's Calculator\n",
    "\n",
    "Walter Erbach, a respected indoor model builder, was also  a Professor of Engineering Mechanics at the University of Nebraska who retired from teaching in 1984. He authored several papers on the theory of indoor model designs that were published in the NFFS Symposiums. At the time when he was most active, computers were huge machines that were only available in big organizations like universities. \n",
    "\n",
    "In the 1980 edition of the Symposium, Walt presented a program that used simple theory to calculate the power needed for an indoor model to maintain level flight. This program was originally written in *FORTRAN*, but was rewritten in *Basic* for the Commodore 64, one of the first machines available for home use. In this note, we will recreate code he wrote, this time using Python."
   ]
  },
  {
   "cell_type": "code",
   "execution_count": 1,
   "id": "89936a29",
   "metadata": {},
   "outputs": [],
   "source": [
    "import numpy as np\n",
    "import scipy"
   ]
  },
  {
   "cell_type": "code",
   "execution_count": 2,
   "id": "e43e01d6",
   "metadata": {},
   "outputs": [],
   "source": [
    "## Test Model Data"
   ]
  },
  {
   "cell_type": "markdown",
   "id": "24dd3ba1",
   "metadata": {},
   "source": [
    "Walt decided to use the McBride B7 airfoil for his test model since he found lift and drag coefficient data in a *Frank Zaic Yearbook*."
   ]
  },
  {
   "cell_type": "code",
   "execution_count": 3,
   "id": "132dfb9d",
   "metadata": {},
   "outputs": [],
   "source": [
    "C_l = [0.06, 0.135, 0.2, 0.25, 0.3, 0.35, 0.395, 0.44]\n",
    "C_d = [0.008, 0.009, 0.01, 0.012, 0.014, 0.019, 0.024, 0.0335]\n",
    "alpha = [-2.0, 0.0, 2.0, 4.0, 6.0, 8.0, 10.0, 12.0]"
   ]
  },
  {
   "cell_type": "markdown",
   "id": "eaa3007a",
   "metadata": {},
   "source": [
    "These three variables define *Python* lists.\n",
    "\n",
    "The program also defines a few parameters for the model we are going to need."
   ]
  },
  {
   "cell_type": "code",
   "execution_count": 4,
   "id": "3f63b235",
   "metadata": {},
   "outputs": [],
   "source": [
    "SW = 150.0     # model wing area in square inches\n",
    "WC = 5.5       # wing chord in inches\n",
    "WI = 4         # wing incidence in degrees\n",
    "WH = 3.0       # wing height in inches\n",
    "W = 0.070      # model weight in ounces\n",
    "PCW = 0.40     # ratio of stab area to wing area\n",
    "TA = 17.0      # distance from 25% wing chord to 25% stab chord"
   ]
  },
  {
   "cell_type": "markdown",
   "id": "bbbdd6ee",
   "metadata": {},
   "source": [
    "The **TA** parameter is the distance from the *Mean Aerodynamic Chord (MAC)* of the wing to the *MAC* of the tail. "
   ]
  },
  {
   "cell_type": "markdown",
   "id": "935593ad",
   "metadata": {},
   "source": [
    "## Using Curve Data\n",
    "\n",
    "The lift and drag coefficient data are not very useful for our new code. What we need is a way to use that data to produce a function that can give us values for any point in the range of the data, and possibly a bit beyond both ends. This is a common problem in the *data science* research world, and there many *Python* tools available for dealing with this. The **scipy** library has a useful function that uses *spline interpolation* that we will use."
   ]
  },
  {
   "cell_type": "code",
   "execution_count": 5,
   "id": "11c09f23",
   "metadata": {},
   "outputs": [],
   "source": [
    "from scipy.interpolate import InterpolatedUnivariateSpline\n",
    "\n",
    "def fit_curve(xp, yp):\n",
    "    xi = np.array(xp)\n",
    "    yi = np.array(yp)\n",
    "    order = 1\n",
    "    s = InterpolatedUnivariateSpline(xi, yi, k=order)\n",
    "    return s"
   ]
  },
  {
   "cell_type": "markdown",
   "id": "966df735",
   "metadata": {},
   "source": [
    "This function takes two lists of data points, and returns a function we can use to get values both inside and outside of the range of those points. The extrapolation will simply extend the curve found at the ends for some distance past those ends. Obviously, this should be used with caution.\n",
    "\n",
    "*Python's* ability to return a function in a variable is very handy, and we will use that feature to generate functions that will let use determine both lift and drag coefficients for any input angle of attack."
   ]
  },
  {
   "cell_type": "code",
   "execution_count": 6,
   "id": "942c354b",
   "metadata": {},
   "outputs": [],
   "source": [
    "CL = fit_curve(alpha, C_l)\n",
    "CD = fit_curve(alpha, C_d)"
   ]
  },
  {
   "cell_type": "markdown",
   "id": "8c851ebd",
   "metadata": {},
   "source": [
    "Now, **CL** and **CD** are the names of functions we can use to get values for $C_l$ and $C_d$. Let's try them out:"
   ]
  },
  {
   "cell_type": "code",
   "execution_count": 7,
   "id": "1d557ad8",
   "metadata": {},
   "outputs": [
    {
     "name": "stdout",
     "output_type": "stream",
     "text": [
      "0.3 0.014\n"
     ]
    }
   ],
   "source": [
    "angle = 6\n",
    "cl_w = float(CL(angle))\n",
    "cd_w = float(CD(angle))\n",
    "print(cl_w, cd_w)"
   ]
  },
  {
   "cell_type": "markdown",
   "id": "0bc7f648",
   "metadata": {},
   "source": [
    "The model used in Walt's code looks pretty conventional. Below is a figure from his paper that shows all of the cryptic variables he used in his *BASIC* code. Back when this was written, using readable names was unthinkable since memory was expensive! Programmers kept things short! I will fix that in the final *Python* program I generate later."
   ]
  },
  {
   "cell_type": "markdown",
   "id": "5c333c69",
   "metadata": {},
   "source": [
    "![Erbach Model](./assets/images/erbach-model.png)"
   ]
  },
  {
   "cell_type": "markdown",
   "id": "304d8147",
   "metadata": {},
   "source": [
    "## basic Aerodynamic Definitions\n",
    "\n",
    "Before we go further, lets review some of the basic definitions we will need in our program."
   ]
  },
  {
   "cell_type": "markdown",
   "id": "1710695b",
   "metadata": {},
   "source": [
    "### Lift and Drag coefficients:\n",
    "\n",
    "$$\n",
    "C_l = \\frac{2L}{\\rho u^2 S}\n",
    "$$\n",
    "\n",
    "$$\n",
    "C_d = \\frac{2D}{\\rho u^2 S}\n",
    "$$\n",
    "\n",
    "Where:\n",
    "\n",
    "- **L** is the lift force\n",
    "- **D** is the drag force\n",
    "- **S** is a reference surface area\n",
    "- **V** is the flight velocity\n",
    "- $\\rho$ is the air density.\n",
    "\n",
    "### Dynamic Pressure\n",
    "\n",
    "The *dynamic pressure* is related to the force a moving body of air can exert on a body.\n",
    "\n",
    "$$\n",
    "q = \\frac{\\rho u^2}{2}\n",
    "$$\n",
    "\n",
    "### Pitching Moment\n",
    "\n",
    "I *Moment* is a torque, meaning force times length. The *pitching moment is a nondimensional number that is related to the moments produced by all the aerodynamic forces acting on the model. \n",
    "\n",
    "$$\n",
    "C_m = \\frac{M}{qSc}\n",
    "$$\n",
    "\n",
    "Where:\n",
    "\n",
    "- **M** is the total moment (about the *CG*)\n",
    "- **q** is the dynamic pressure\n",
    "- **S** is a reference area\n",
    "- **c** is the wing chord"
   ]
  },
  {
   "cell_type": "markdown",
   "id": "521fef5c",
   "metadata": {},
   "source": [
    "We can rearrange the *lift coefficient* equation to find the flight velocity:\n",
    "\n",
    "$$\n",
    "V = \\sqrt{\\frac{2 L}{\\rho S C_l}}\n",
    "$$\n",
    "\n",
    "Similarly, we can use the same equation to calculate the lift force:\n",
    "\n",
    "$$\n",
    "L = \\frac{\\rho S V^2 C_l}{2}\n",
    "$$\n",
    "\n",
    "But, using the definition of the *dynamic pressure**, this becomes:\n",
    "\n",
    "$$\n",
    "L = q S C_l\n",
    "$$\n",
    "\n",
    "and:\n",
    "\n",
    "$$\n",
    "D = q S C_d\n",
    "$$\n",
    "\n",
    "### Power\n",
    "\n",
    "Power is simple a force (weight) times a velocity. We will use this fact later. "
   ]
  },
  {
   "cell_type": "markdown",
   "id": "3b670029",
   "metadata": {},
   "source": [
    "These equations are the basis for the first part of Walt's code. But before we start work on that, we need to consider the units for all the terms we have introduced."
   ]
  },
  {
   "cell_type": "markdown",
   "id": "6374815c",
   "metadata": {},
   "source": [
    "## Example Calculations"
   ]
  },
  {
   "cell_type": "markdown",
   "id": "cddb2fa5",
   "metadata": {},
   "source": [
    "Before we work through our equations, let's just use the numbers from Walt's code and his expressions to see what we get."
   ]
  },
  {
   "cell_type": "markdown",
   "id": "b6387f29",
   "metadata": {},
   "source": [
    "### Basic Test Model Data\n",
    "\n",
    "Now we can define a few dimensional model values for our work. Most of these variable names come from Walt's code:"
   ]
  },
  {
   "cell_type": "code",
   "execution_count": 8,
   "id": "3d1ef91d",
   "metadata": {},
   "outputs": [],
   "source": [
    "W = 0.070        # model weight in ounces\n",
    "WT = W / 16.0    # model weight in pounds\n",
    "AW = 150.0       # wing surface area in square inches\n",
    "SW = AW/144.0\n",
    "PCW = 0.4        # stab size as a percentage of wing area\n",
    "WH = 3.0         # wing height in inches\n",
    "RHO2 = 0.00119   # shown as a bare number in the code "
   ]
  },
  {
   "cell_type": "markdown",
   "id": "c1a658c4",
   "metadata": {},
   "source": [
    "Now, we will calculate the velocity, **VE**:"
   ]
  },
  {
   "cell_type": "code",
   "execution_count": 9,
   "id": "54e29681",
   "metadata": {},
   "outputs": [
    {
     "data": {
      "text/plain": [
       "3.9694209301872236"
      ]
     },
     "execution_count": 9,
     "metadata": {},
     "output_type": "execute_result"
    }
   ],
   "source": [
    "alpha_wing = 2\n",
    "alpha_stab = -2\n",
    "VE = (WT/(RHO2*SW*(CL(alpha_wing)+PCW*CL(alpha_stab))))**0.5\n",
    "VE"
   ]
  },
  {
   "cell_type": "markdown",
   "id": "94cf2440",
   "metadata": {},
   "source": [
    "This matches the value generated from Walt's code, as shown by *Figure 1* from his paper!"
   ]
  },
  {
   "cell_type": "markdown",
   "id": "124e8865",
   "metadata": {},
   "source": [
    "### Dimensional Analysis\n",
    "\n",
    "Just plugging in numbers to equations might generate results, but you do not know if they represent anything real. We need to be sure that all of the variables used in our calculations use the right units! Walt defined many variables in his program, and added comments to show the units he was using. The *Python* **pint** library makes it easy to add dimensional units to our variables and make sure our calculated values are correct!\n",
    "\n",
    "To demonstrate this, we need to initialize **pint** and create a *Unit Registry* gadget we can use to attach units to variables:"
   ]
  },
  {
   "cell_type": "code",
   "execution_count": 10,
   "id": "a2f95c68",
   "metadata": {},
   "outputs": [],
   "source": [
    "import pint\n",
    "u = pint.UnitRegistry()"
   ]
  },
  {
   "cell_type": "markdown",
   "id": "acebea41",
   "metadata": {},
   "source": [
    "Now, **u** is a powerful thing that knows a huge amount about units! Let's try it out on the surface area:"
   ]
  },
  {
   "cell_type": "code",
   "execution_count": 11,
   "id": "6ab0ebab",
   "metadata": {},
   "outputs": [
    {
     "data": {
      "text/html": [
       "0.096774 meter<sup>2</sup>"
      ],
      "text/latex": [
       "$0.096774\\ \\mathrm{meter}^{2}$"
      ],
      "text/plain": [
       "0.096774 <Unit('meter ** 2')>"
      ]
     },
     "execution_count": 11,
     "metadata": {},
     "output_type": "execute_result"
    }
   ],
   "source": [
    "# S_w is the surface area of the wing\n",
    "S_w = 150.0 * u.inches ** 2\n",
    "S_w.to('meters**2')"
   ]
  },
  {
   "cell_type": "markdown",
   "id": "f4ffb36d",
   "metadata": {},
   "source": [
    "Now that is pretty cool! I defined the area in square inches and asked for the value in square meters. All without doing anything to figure out that conversion. "
   ]
  },
  {
   "cell_type": "markdown",
   "id": "6d496507",
   "metadata": {},
   "source": [
    "Internally, **pint** converts everything to *Standard International* (metric) base units. We can convert back to whatever unit system we like, as we shall see in the examples below."
   ]
  },
  {
   "cell_type": "markdown",
   "id": "039c72e6",
   "metadata": {},
   "source": [
    "There are conversion factors in this code, but we have no way to know everything is correct. Let's use **pint** to attach units to these numbers and see what happens."
   ]
  },
  {
   "cell_type": "code",
   "execution_count": 12,
   "id": "37dce8c4",
   "metadata": {},
   "outputs": [],
   "source": [
    "WT = 0.070 * u.ounces\n",
    "AW = 150.0 * u.inch**2\n",
    "PCW = 0.4\n",
    "SS = PCW * AW\n",
    "WH = 3.0 * u.inch "
   ]
  },
  {
   "cell_type": "markdown",
   "id": "5e4a5cb1",
   "metadata": {},
   "source": [
    "Density is the mass of something per unit volume. For air, we use the symbol $\\rho$ for this quantity. The \"magic number\", which I called **RHO2** above, in Walt's code which looks to be ${\\rho/2}$. I checked this by looking up the air density in the *Standard Atmosphere* model used by researchers. You can find this at [Standard Atmosphere Calculator](https://www.digitaldutch.com/atmoscalc/) Therefor, the correct value for density is:"
   ]
  },
  {
   "cell_type": "code",
   "execution_count": 13,
   "id": "4a07c0f2",
   "metadata": {},
   "outputs": [
    {
     "data": {
      "text/html": [
       "1.2266015877758076 kilogram/meter<sup>3</sup>"
      ],
      "text/latex": [
       "$1.2266015877758076\\ \\frac{\\mathrm{kilogram}}{\\mathrm{meter}^{3}}$"
      ],
      "text/plain": [
       "1.2266015877758076 <Unit('kilogram / meter ** 3')>"
      ]
     },
     "execution_count": 13,
     "metadata": {},
     "output_type": "execute_result"
    }
   ],
   "source": [
    "density = 0.00119 * 2 * u.slugs/u.ft**3 # air density from program\n",
    "density.to_base_units()"
   ]
  },
  {
   "cell_type": "markdown",
   "id": "1a951f22",
   "metadata": {},
   "source": [
    "I am not sure where Walt got this number, since it matches Lincoln, NE when it is about 6 below zero!"
   ]
  },
  {
   "cell_type": "markdown",
   "id": "6da3e6a9",
   "metadata": {},
   "source": [
    "#### Mass vs Weight"
   ]
  },
  {
   "cell_type": "markdown",
   "id": "168ca39d",
   "metadata": {},
   "source": [
    "One of the biggest headaches in generating proper code here is making sure we distinguish between the mass of something and the weight of something.\n",
    "\n",
    "From *Newton's Second Law*, we know that;\n",
    "\n",
    "$$ \n",
    "F = m a\n",
    "$$\n",
    "\n",
    "Where **F** is the force (weight) of an object, **m** is the *mass* of that object, and **g** is the acceleration due to gravity. To get the mass of something, we divide its weight by **g**."
   ]
  },
  {
   "cell_type": "markdown",
   "id": "76b64384",
   "metadata": {},
   "source": [
    "**pint** makes it easy to  see the weight of the model using in *SI* units:"
   ]
  },
  {
   "cell_type": "code",
   "execution_count": 14,
   "id": "7d4c85eb",
   "metadata": {
    "scrolled": true
   },
   "outputs": [
    {
     "data": {
      "text/html": [
       "0.0019844666187500007 kilogram"
      ],
      "text/latex": [
       "$0.0019844666187500007\\ \\mathrm{kilogram}$"
      ],
      "text/plain": [
       "0.0019844666187500007 <Unit('kilogram')>"
      ]
     },
     "execution_count": 14,
     "metadata": {},
     "output_type": "execute_result"
    }
   ],
   "source": [
    "WT.to_base_units()"
   ]
  },
  {
   "cell_type": "code",
   "execution_count": 15,
   "id": "a29206e9",
   "metadata": {},
   "outputs": [
    {
     "data": {
      "text/html": [
       "0.0002132277648529057 kilogram second<sup>4</sup>/meter<sup>4</sup>"
      ],
      "text/latex": [
       "$0.0002132277648529057\\ \\frac{\\mathrm{kilogram} \\cdot \\mathrm{second}^{4}}{\\mathrm{meter}^{4}}$"
      ],
      "text/plain": [
       "0.0002132277648529057 <Unit('kilogram * second ** 4 / meter ** 4')>"
      ]
     },
     "execution_count": 15,
     "metadata": {},
     "output_type": "execute_result"
    }
   ],
   "source": [
    "(WT/(u.gravity*u.gravity*AW)).to_base_units()"
   ]
  },
  {
   "cell_type": "markdown",
   "id": "2808bf5e",
   "metadata": {},
   "source": [
    "### Flight Velocity"
   ]
  },
  {
   "cell_type": "markdown",
   "id": "82b9e77f",
   "metadata": {},
   "source": [
    "Now we can recreate the velocity calculation with proper units attached:"
   ]
  },
  {
   "cell_type": "code",
   "execution_count": 16,
   "id": "359eef87",
   "metadata": {},
   "outputs": [
    {
     "data": {
      "text/html": [
       "3.9694209301872245 foot/second"
      ],
      "text/latex": [
       "$3.9694209301872245\\ \\frac{\\mathrm{foot}}{\\mathrm{second}}$"
      ],
      "text/plain": [
       "3.9694209301872245 <Unit('foot / second')>"
      ]
     },
     "execution_count": 16,
     "metadata": {},
     "output_type": "execute_result"
    }
   ],
   "source": [
    "k1 = (WT * 2 * u.gravity) / (density * AW)\n",
    "k2 = (CL(alpha_wing)+PCW*CL(alpha_stab))\n",
    "VE = (k1/k2)**0.5\n",
    "VE.to('ft/sec')"
   ]
  },
  {
   "cell_type": "markdown",
   "id": "2455ebb5",
   "metadata": {},
   "source": [
    "Again, this matches the value from Walt's paper."
   ]
  },
  {
   "cell_type": "markdown",
   "id": "95a997fb",
   "metadata": {},
   "source": [
    "### Component Lift and Drag"
   ]
  },
  {
   "cell_type": "markdown",
   "id": "320bf729",
   "metadata": {},
   "source": [
    "Now that we know the flight velocity, we can calculate the lift and drag generated by both the wing and stab. We will use Walt's variable names to match the model figure.\n",
    "\n",
    "First, lets calculate the *dynamic pressure* $(\\rho u^2)/2$ for the flight velocity:"
   ]
  },
  {
   "cell_type": "code",
   "execution_count": 17,
   "id": "c4bff216",
   "metadata": {
    "scrolled": true
   },
   "outputs": [
    {
     "data": {
      "text/html": [
       "0.8977548558812976 kilogram/(meter second<sup>2</sup>)"
      ],
      "text/latex": [
       "$0.8977548558812976\\ \\frac{\\mathrm{kilogram}}{\\left(\\mathrm{meter} \\cdot \\mathrm{second}^{2}\\right)}$"
      ],
      "text/plain": [
       "0.8977548558812976 <Unit('kilogram / meter / second ** 2')>"
      ]
     },
     "execution_count": 17,
     "metadata": {},
     "output_type": "execute_result"
    }
   ],
   "source": [
    "DP = density /2 * VE **2 \n",
    "DP.to_base_units()"
   ]
  },
  {
   "cell_type": "markdown",
   "id": "3e806a83",
   "metadata": {},
   "source": [
    "Pressure acting on an area produces a force. This will be used later."
   ]
  },
  {
   "cell_type": "code",
   "execution_count": 18,
   "id": "e7796a16",
   "metadata": {},
   "outputs": [
    {
     "data": {
      "text/html": [
       "0.017375865684611334 kilogram meter/second<sup>2</sup>"
      ],
      "text/latex": [
       "$0.017375865684611334\\ \\frac{\\mathrm{kilogram} \\cdot \\mathrm{meter}}{\\mathrm{second}^{2}}$"
      ],
      "text/plain": [
       "0.017375865684611334 <Unit('kilogram * meter / second ** 2')>"
      ]
     },
     "execution_count": 18,
     "metadata": {},
     "output_type": "execute_result"
    }
   ],
   "source": [
    "AWL = AW * DP * CL(alpha_wing)\n",
    "AWL.to_base_units()"
   ]
  },
  {
   "cell_type": "code",
   "execution_count": 19,
   "id": "094d079d",
   "metadata": {},
   "outputs": [
    {
     "data": {
      "text/html": [
       "0.00208510388215336 kilogram meter/second<sup>2</sup>"
      ],
      "text/latex": [
       "$0.00208510388215336\\ \\frac{\\mathrm{kilogram} \\cdot \\mathrm{meter}}{\\mathrm{second}^{2}}$"
      ],
      "text/plain": [
       "0.00208510388215336 <Unit('kilogram * meter / second ** 2')>"
      ]
     },
     "execution_count": 19,
     "metadata": {},
     "output_type": "execute_result"
    }
   ],
   "source": [
    "CTL = PCW * AW * DP * CL(alpha_stab)\n",
    "CTL.to_base_units()"
   ]
  },
  {
   "cell_type": "code",
   "execution_count": 20,
   "id": "4b28a58d",
   "metadata": {
    "scrolled": true
   },
   "outputs": [
    {
     "data": {
      "text/html": [
       "0.019460969566764696 kilogram meter/second<sup>2</sup>"
      ],
      "text/latex": [
       "$0.019460969566764696\\ \\frac{\\mathrm{kilogram} \\cdot \\mathrm{meter}}{\\mathrm{second}^{2}}$"
      ],
      "text/plain": [
       "0.019460969566764696 <Unit('kilogram * meter / second ** 2')>"
      ]
     },
     "execution_count": 20,
     "metadata": {},
     "output_type": "execute_result"
    }
   ],
   "source": [
    "Lift = (AWL + CTL)\n",
    "Lift.to_base_units()"
   ]
  },
  {
   "cell_type": "markdown",
   "id": "94d82253",
   "metadata": {},
   "source": [
    "The units here are not those for a force (weight) so we need to divide by the acceleration of gravity:"
   ]
  },
  {
   "cell_type": "code",
   "execution_count": 21,
   "id": "09a54864",
   "metadata": {},
   "outputs": [
    {
     "data": {
      "text/html": [
       "0.0019844666187500007 kilogram"
      ],
      "text/latex": [
       "$0.0019844666187500007\\ \\mathrm{kilogram}$"
      ],
      "text/plain": [
       "0.0019844666187500007 <Unit('kilogram')>"
      ]
     },
     "execution_count": 21,
     "metadata": {},
     "output_type": "execute_result"
    }
   ],
   "source": [
    "Lift_d = Lift / u.gravity\n",
    "Lift_d.to_base_units()"
   ]
  },
  {
   "cell_type": "code",
   "execution_count": 22,
   "id": "2e89834c",
   "metadata": {},
   "outputs": [
    {
     "data": {
      "text/html": [
       "0.07 ounce"
      ],
      "text/latex": [
       "$0.07\\ \\mathrm{ounce}$"
      ],
      "text/plain": [
       "0.07 <Unit('ounce')>"
      ]
     },
     "execution_count": 22,
     "metadata": {},
     "output_type": "execute_result"
    }
   ],
   "source": [
    "WT.to('oz')"
   ]
  },
  {
   "cell_type": "markdown",
   "id": "a21458f0",
   "metadata": {},
   "source": [
    "Now, our lift matches the weight of the model. We have equations we can use!\n",
    "\n",
    "Next, let's calculate the drag force"
   ]
  },
  {
   "cell_type": "code",
   "execution_count": 23,
   "id": "5cc55b1a",
   "metadata": {},
   "outputs": [
    {
     "data": {
      "text/html": [
       "0.004125000000000001 ounce"
      ],
      "text/latex": [
       "$0.004125000000000001\\ \\mathrm{ounce}$"
      ],
      "text/plain": [
       "0.004125000000000001 <Unit('ounce')>"
      ]
     },
     "execution_count": 23,
     "metadata": {},
     "output_type": "execute_result"
    }
   ],
   "source": [
    "BWD = AW * DP * CD(alpha_wing)\n",
    "DTD = PCW * AW * DP * CD(alpha_stab)\n",
    "Drag = (BWD + DTD)/u.gravity\n",
    "Drag.to('oz')"
   ]
  },
  {
   "cell_type": "markdown",
   "id": "2a0930f7",
   "metadata": {},
   "source": [
    "### Level Flight Power"
   ]
  },
  {
   "cell_type": "markdown",
   "id": "694c784c",
   "metadata": {},
   "source": [
    "The power required to maintain level flight must equal the total drag. From Erbach's paper, that power should be this:"
   ]
  },
  {
   "cell_type": "code",
   "execution_count": 24,
   "id": "3faaf6ea",
   "metadata": {},
   "outputs": [
    {
     "data": {
      "text/html": [
       "0.00014113526592550004 kilogram meter/second"
      ],
      "text/latex": [
       "$0.00014113526592550004\\ \\frac{\\mathrm{kilogram} \\cdot \\mathrm{meter}}{\\mathrm{second}}$"
      ],
      "text/plain": [
       "0.00014113526592550004 <Unit('kilogram * meter / second')>"
      ]
     },
     "execution_count": 24,
     "metadata": {},
     "output_type": "execute_result"
    }
   ],
   "source": [
    "power = 0.196 * u.inch * u.oz / u.sec\n",
    "power.to_base_units()"
   ]
  },
  {
   "cell_type": "markdown",
   "id": "b653a955",
   "metadata": {},
   "source": [
    "Dividing this by the flight velocity should give us the drag force., the drag force shound be:"
   ]
  },
  {
   "cell_type": "code",
   "execution_count": 25,
   "id": "75ec499d",
   "metadata": {},
   "outputs": [
    {
     "data": {
      "text/html": [
       "0.004114789945586079 ounce"
      ],
      "text/latex": [
       "$0.004114789945586079\\ \\mathrm{ounce}$"
      ],
      "text/plain": [
       "0.004114789945586079 <Unit('ounce')>"
      ]
     },
     "execution_count": 25,
     "metadata": {},
     "output_type": "execute_result"
    }
   ],
   "source": [
    "drag_e = (power/VE)\n",
    "drag_e.to('oz')"
   ]
  },
  {
   "cell_type": "markdown",
   "id": "e7612b74",
   "metadata": {},
   "source": [
    "Well, we have a slight problem here. The units match, but the numbers are not agreeing all that well. I suspect the problem has to do with the poor precision when working on the Commodore 64. The \"64\" has to do with available memory: 64K!, so high accuracy was not going to be available! We will need to return to this issue later."
   ]
  },
  {
   "cell_type": "markdown",
   "id": "ab6580b4",
   "metadata": {},
   "source": [
    "### Pitching Moment"
   ]
  },
  {
   "cell_type": "markdown",
   "id": "55969d92",
   "metadata": {},
   "source": [
    "We have the lift and drag values available, all we need to do this calculation is to figure out the moment arms (distances from the CG) for each of those forces)\n",
    "\n",
    "Erbach's code uses these formulas for the distances defined in the model diagram above. A positive moment causes a nose up condition by convention."
   ]
  },
  {
   "cell_type": "code",
   "execution_count": 26,
   "id": "774b5b05",
   "metadata": {},
   "outputs": [
    {
     "data": {
      "text/html": [
       "0.19771138925432696 inch ounce"
      ],
      "text/latex": [
       "$0.19771138925432696\\ \\mathrm{inch} \\cdot \\mathrm{ounce}$"
      ],
      "text/plain": [
       "0.19771138925432696 <Unit('inch * ounce')>"
      ]
     },
     "execution_count": 26,
     "metadata": {},
     "output_type": "execute_result"
    }
   ],
   "source": [
    "import math\n",
    "CG = 0.5\n",
    "WC = 5.5 * u.inch\n",
    "TA = 17.0 * u.inch\n",
    "DW = WC * (CG - 0.25)\n",
    "EWLA = WH * math.sin(alpha_stab) - DW * math.cos(alpha_stab)\n",
    "FWDA = WH * math.cos(alpha_stab) - DW * math.sin(alpha_stab)\n",
    "GTLA = (TA - DW)*math.cos(alpha_stab)\n",
    "HTDA = (TA - DW)* math.sin(alpha_stab)\n",
    "\n",
    "JMWL = -AWL * EWLA\n",
    "KWMD = +BWD * FWDA\n",
    "LMTL = -CTL * GTLA\n",
    "MWTD = -DTD * HTDA\n",
    "\n",
    "M = (JMWL + KWMD + LMTL + MWTD)/u.gravity\n",
    "M.to('in oz')"
   ]
  },
  {
   "cell_type": "markdown",
   "id": "d0f25858",
   "metadata": {},
   "source": [
    "This is close to the value Walt published, but again is not exact."
   ]
  },
  {
   "cell_type": "markdown",
   "id": "76e5cc6c",
   "metadata": {},
   "source": [
    "## Parametric Study\n",
    "\n",
    "The rest of the code in Walt's program set up a parametric study that produce \"terrifying yards of tabulated data\". Unfortunately, Walt had to manually convert this data into plots for his report. We are much too lazy for that sort of thing, so we will let *Python* and **matplotlib** do that for us.\n",
    "\n",
    "For this section, we will recreate *Figure 2* and *Figure 3* from Walt's report. \n",
    "\n",
    "To generate this plot, we need to write a few functions that we can use for a parametric study.\n",
    "\n",
    "Fortunately, **numpy** will be a big help here!"
   ]
  },
  {
   "cell_type": "code",
   "execution_count": 27,
   "id": "1439f42e",
   "metadata": {},
   "outputs": [],
   "source": [
    "def VE_alpha(wa, sa):\n",
    "    \"\"\"Given an list of alpha values for wing and stab, return a list of velocities\"\"\"\n",
    "    k1 = (WT * 2 * u.gravity) / (density * AW)\n",
    "    k2 = (CL(wa)+PCW*CL(sa))\n",
    "    VE = (k1/k2)**0.5\n",
    "    return VE"
   ]
  },
  {
   "cell_type": "markdown",
   "id": "9fcf86b8",
   "metadata": {},
   "source": [
    "lets set up a test case:"
   ]
  },
  {
   "cell_type": "code",
   "execution_count": 28,
   "id": "06bb1898",
   "metadata": {},
   "outputs": [
    {
     "data": {
      "text/plain": [
       "array([-2.,  0.,  2.,  4.,  6.,  8., 10., 12.])"
      ]
     },
     "execution_count": 28,
     "metadata": {},
     "output_type": "execute_result"
    }
   ],
   "source": [
    "stab_angles = np.linspace(-2,12,8)\n",
    "stab_angles"
   ]
  },
  {
   "cell_type": "code",
   "execution_count": 29,
   "id": "c0c87222",
   "metadata": {},
   "outputs": [],
   "source": [
    "wing_angles = stab_angles + 4"
   ]
  },
  {
   "cell_type": "code",
   "execution_count": 30,
   "id": "fc73de92",
   "metadata": {},
   "outputs": [
    {
     "data": {
      "text/plain": [
       "array([ 2.,  4.,  6.,  8., 10., 12., 14., 16.])"
      ]
     },
     "execution_count": 30,
     "metadata": {},
     "output_type": "execute_result"
    }
   ],
   "source": [
    "wing_angles"
   ]
  },
  {
   "cell_type": "markdown",
   "id": "05c63257",
   "metadata": {},
   "source": [
    "Isn't **numpy** neat?"
   ]
  },
  {
   "cell_type": "code",
   "execution_count": 31,
   "id": "a5fc98fc",
   "metadata": {},
   "outputs": [
    {
     "data": {
      "text/html": [
       "<table><tbody><tr><th>Magnitude</th><td style='text-align:left;'><pre>[1.209879499521066 1.0385546040698463 0.9289114772182224 0.853610739223475<br> 0.797925809083669 0.7518862285003758 0.7141026433978803<br> 0.6814967305138373]</pre></td></tr><tr><th>Units</th><td style='text-align:left;'>meter/second</td></tr></tbody></table>"
      ],
      "text/latex": [
       "$\\begin{pmatrix}1.209879499521066 & 1.0385546040698463 & 0.9289114772182224 & 0.853610739223475 & 0.797925809083669 & 0.7518862285003758 & 0.7141026433978803 & 0.6814967305138373\\end{pmatrix}\\ \\frac{\\mathrm{meter}}{\\mathrm{second}}$"
      ],
      "text/plain": [
       "array([1.2098795 , 1.0385546 , 0.92891148, 0.85361074, 0.79792581,\n",
       "       0.75188623, 0.71410264, 0.68149673]) <Unit('meter / second')>"
      ]
     },
     "execution_count": 31,
     "metadata": {},
     "output_type": "execute_result"
    }
   ],
   "source": [
    "VEset = VE_alpha(wing_angles, stab_angles)\n",
    "VEset.to_base_units()"
   ]
  },
  {
   "cell_type": "code",
   "execution_count": 32,
   "id": "27b57455",
   "metadata": {},
   "outputs": [
    {
     "data": {
      "text/html": [
       "<table><tbody><tr><th>Magnitude</th><td style='text-align:left;'><pre>[3.9694209301872245 3.4073313781819103 3.0476098333931185 2.80056016805602<br> 2.617866827702326 2.4668183349749864 2.342856441594096 2.235881661790805]</pre></td></tr><tr><th>Units</th><td style='text-align:left;'>foot/second</td></tr></tbody></table>"
      ],
      "text/latex": [
       "$\\begin{pmatrix}3.9694209301872245 & 3.4073313781819103 & 3.0476098333931185 & 2.80056016805602 & 2.617866827702326 & 2.4668183349749864 & 2.342856441594096 & 2.235881661790805\\end{pmatrix}\\ \\frac{\\mathrm{foot}}{\\mathrm{second}}$"
      ],
      "text/plain": [
       "array([3.96942093, 3.40733138, 3.04760983, 2.80056017, 2.61786683,\n",
       "       2.46681833, 2.34285644, 2.23588166]) <Unit('foot / second')>"
      ]
     },
     "execution_count": 32,
     "metadata": {},
     "output_type": "execute_result"
    }
   ],
   "source": [
    "VEset.to('ft/sec')"
   ]
  },
  {
   "cell_type": "markdown",
   "id": "34885f31",
   "metadata": {},
   "source": [
    "Next we generate functions that will calculate the lift and drag sets from the velocity sets."
   ]
  },
  {
   "cell_type": "code",
   "execution_count": 35,
   "id": "3ca83fc6",
   "metadata": {},
   "outputs": [],
   "source": [
    "def lift_alpha(V, wa, sa):\n",
    "    DP = density / u.gravity /2 * V **2\n",
    "    AWL = AW * DP * CL(wa)\n",
    "    CTL = SS * DP * CL(sa)\n",
    "    return (AWL + CTL)"
   ]
  },
  {
   "cell_type": "code",
   "execution_count": 36,
   "id": "eefb67e9",
   "metadata": {},
   "outputs": [
    {
     "data": {
      "text/html": [
       "<table><tbody><tr><th>Magnitude</th><td style='text-align:left;'><pre>[0.0019844666187500007 0.0019844666187500003 0.0019844666187500007<br> 0.0019844666187500007 0.0019844666187500007 0.0019844666187500007<br> 0.0019844666187500007 0.0019844666187500003]</pre></td></tr><tr><th>Units</th><td style='text-align:left;'>kilogram</td></tr></tbody></table>"
      ],
      "text/latex": [
       "$\\begin{pmatrix}0.0019844666187500007 & 0.0019844666187500003 & 0.0019844666187500007 & 0.0019844666187500007 & 0.0019844666187500007 & 0.0019844666187500007 & 0.0019844666187500007 & 0.0019844666187500003\\end{pmatrix}\\ \\mathrm{kilogram}$"
      ],
      "text/plain": [
       "array([0.00198447, 0.00198447, 0.00198447, 0.00198447, 0.00198447,\n",
       "       0.00198447, 0.00198447, 0.00198447]) <Unit('kilogram')>"
      ]
     },
     "execution_count": 36,
     "metadata": {},
     "output_type": "execute_result"
    }
   ],
   "source": [
    "lift_set = lift_alpha(VEset, wing_angles, stab_angles)\n",
    "lift_set.to_base_units()"
   ]
  },
  {
   "cell_type": "code",
   "execution_count": 43,
   "id": "848594c1",
   "metadata": {},
   "outputs": [],
   "source": [
    "def drag_alpha(V, wa, sa):\n",
    "    DP = density / u.gravity /2 * V **2\n",
    "    BWD = AW * DP * CD(wa)\n",
    "    DTD = SS * DP * CD(sa)\n",
    "    return (BWD + DTD)"
   ]
  },
  {
   "cell_type": "code",
   "execution_count": 44,
   "id": "03b66629",
   "metadata": {},
   "outputs": [
    {
     "data": {
      "text/html": [
       "<table><tbody><tr><th>Magnitude</th><td style='text-align:left;'><pre>[0.004125000000000001 0.0035921052631578943 0.0033157894736842116<br> 0.0037022222222222226 0.004023300970873787 0.004960344827586207<br> 0.00572628304821151 0.00653399433427762]</pre></td></tr><tr><th>Units</th><td style='text-align:left;'>ounce</td></tr></tbody></table>"
      ],
      "text/latex": [
       "$\\begin{pmatrix}0.004125000000000001 & 0.0035921052631578943 & 0.0033157894736842116 & 0.0037022222222222226 & 0.004023300970873787 & 0.004960344827586207 & 0.00572628304821151 & 0.00653399433427762\\end{pmatrix}\\ \\mathrm{ounce}$"
      ],
      "text/plain": [
       "array([0.004125  , 0.00359211, 0.00331579, 0.00370222, 0.0040233 ,\n",
       "       0.00496034, 0.00572628, 0.00653399]) <Unit('ounce')>"
      ]
     },
     "execution_count": 44,
     "metadata": {},
     "output_type": "execute_result"
    }
   ],
   "source": [
    "drag_set = drag_alpha(VEset, wing_angles, stab_angles)\n",
    "drag_set"
   ]
  },
  {
   "cell_type": "markdown",
   "id": "c006ad92",
   "metadata": {},
   "source": [
    "With velocities created, we can build a set of power values"
   ]
  },
  {
   "cell_type": "code",
   "execution_count": 48,
   "id": "9fdc8a54",
   "metadata": {},
   "outputs": [],
   "source": [
    "def P_alpha(v,d, wa, sa):\n",
    "    \"\"\"Given an list of alpha values for wing and stab, return a list of velocities\"\"\"\n",
    "    P = v*d/u.gravity   \n",
    "    return P"
   ]
  },
  {
   "cell_type": "code",
   "execution_count": 49,
   "id": "0dc91073",
   "metadata": {},
   "outputs": [
    {
     "data": {
      "text/html": [
       "<table><tbody><tr><th>Magnitude</th><td style='text-align:left;'><pre>[1.4427502333295317e-05 1.078458586205112e-05 8.90402477417704e-06<br> 9.135817931712513e-06 9.280473116250776e-06 1.078174561983287e-05<br> 1.1821117502952309e-05 1.287263966544138e-05]</pre></td></tr><tr><th>Units</th><td style='text-align:left;'>kilogram second</td></tr></tbody></table>"
      ],
      "text/latex": [
       "$\\begin{pmatrix}1.4427502333295317\\times 10^{-5} & 1.078458586205112\\times 10^{-5} & 8.90402477417704\\times 10^{-6} & 9.135817931712513\\times 10^{-6} & 9.280473116250776\\times 10^{-6} & 1.078174561983287\\times 10^{-5} & 1.1821117502952309\\times 10^{-5} & 1.287263966544138\\times 10^{-5}\\end{pmatrix}\\ \\mathrm{kilogram} \\cdot \\mathrm{second}$"
      ],
      "text/plain": [
       "array([1.44275023e-05, 1.07845859e-05, 8.90402477e-06, 9.13581793e-06,\n",
       "       9.28047312e-06, 1.07817456e-05, 1.18211175e-05, 1.28726397e-05]) <Unit('kilogram * second')>"
      ]
     },
     "execution_count": 49,
     "metadata": {},
     "output_type": "execute_result"
    }
   ],
   "source": [
    "Pset = P_alpha(VEset, drag_set, wing_angles, stab_angles)\n",
    "Pset.to_base_units()"
   ]
  },
  {
   "cell_type": "code",
   "execution_count": 38,
   "id": "827724cf",
   "metadata": {},
   "outputs": [],
   "source": [
    "def CMset(wa,sa, dp):\n",
    "    a = AW * dp * CL(wa)\n",
    "    b = SS * dp * CD(sa)\n",
    "    c = AW * dp * CL(wa)\n",
    "    d = SS * dp * CD(sa)\n",
    "    CG = 0.5\n",
    "    WC = 5.5 * u.inch\n",
    "    TA = 17.0 * u.inch\n",
    "    DW = WC * (CG - 0.25)\n",
    "    EWLA = WH * np.sin(sa) + DW * np.cos(sa)\n",
    "    FWDA = WH * np.cos(sa) - DW * np.sin(sa)\n",
    "    GTLA = (TA - DW)*np.cos(sa)\n",
    "    HTDA = (TA - DW)* np.sin(sa)\n",
    "\n",
    "    JMWL = -a * EWLA\n",
    "    KWMD = +b * FWDA\n",
    "    LMTL = -c * GTLA\n",
    "    MWTD = -d * HTDA\n",
    "\n",
    "    return (JMWL + KWMD + LMTL + MWTD)/u.gravity"
   ]
  },
  {
   "cell_type": "code",
   "execution_count": 39,
   "id": "70506a19",
   "metadata": {},
   "outputs": [],
   "source": [
    "DPset = density /2 * VEset **2\n",
    "DPset.to_base_units()\n",
    "CMvals = CMset(wing_angles, stab_angles, DPset) "
   ]
  },
  {
   "cell_type": "code",
   "execution_count": 40,
   "id": "9d1a7ae9",
   "metadata": {},
   "outputs": [
    {
     "data": {
      "text/html": [
       "<table><tbody><tr><th>Magnitude</th><td style='text-align:left;'><pre>[0.6268588971075494 -0.9761315789473685 0.2278970096392686<br> 0.736736743507101 -0.8255521214122433 -0.042091135038329015<br> 0.8463483858767323 -0.653778086698054]</pre></td></tr><tr><th>Units</th><td style='text-align:left;'>inch ounce</td></tr></tbody></table>"
      ],
      "text/latex": [
       "$\\begin{pmatrix}0.6268588971075494 & -0.9761315789473685 & 0.2278970096392686 & 0.736736743507101 & -0.8255521214122433 & -0.042091135038329015 & 0.8463483858767323 & -0.653778086698054\\end{pmatrix}\\ \\mathrm{inch} \\cdot \\mathrm{ounce}$"
      ],
      "text/plain": [
       "array([ 0.6268589 , -0.97613158,  0.22789701,  0.73673674, -0.82555212,\n",
       "       -0.04209114,  0.84634839, -0.65377809]) <Unit('inch * ounce')>"
      ]
     },
     "execution_count": 40,
     "metadata": {},
     "output_type": "execute_result"
    }
   ],
   "source": [
    "CMvals"
   ]
  },
  {
   "cell_type": "code",
   "execution_count": null,
   "id": "98e61e42",
   "metadata": {},
   "outputs": [],
   "source": []
  },
  {
   "cell_type": "code",
   "execution_count": null,
   "id": "d412af62",
   "metadata": {},
   "outputs": [],
   "source": []
  }
 ],
 "metadata": {
  "kernelspec": {
   "display_name": "Python 3 (ipykernel)",
   "language": "python",
   "name": "python3"
  },
  "language_info": {
   "codemirror_mode": {
    "name": "ipython",
    "version": 3
   },
   "file_extension": ".py",
   "mimetype": "text/x-python",
   "name": "python",
   "nbconvert_exporter": "python",
   "pygments_lexer": "ipython3",
   "version": "3.9.9"
  },
  "latex_envs": {
   "LaTeX_envs_menu_present": true,
   "autoclose": false,
   "autocomplete": true,
   "bibliofile": "biblio.bib",
   "cite_by": "apalike",
   "current_citInitial": 1,
   "eqLabelWithNumbers": true,
   "eqNumInitial": 1,
   "hotkeys": {
    "equation": "Ctrl-E",
    "itemize": "Ctrl-I"
   },
   "labels_anchors": false,
   "latex_user_defs": false,
   "report_style_numbering": false,
   "user_envs_cfg": false
  },
  "toc": {
   "base_numbering": 1,
   "nav_menu": {},
   "number_sections": true,
   "sideBar": true,
   "skip_h1_title": false,
   "title_cell": "Table of Contents",
   "title_sidebar": "Contents",
   "toc_cell": false,
   "toc_position": {},
   "toc_section_display": true,
   "toc_window_display": false
  },
  "varInspector": {
   "cols": {
    "lenName": 16,
    "lenType": 16,
    "lenVar": 40
   },
   "kernels_config": {
    "python": {
     "delete_cmd_postfix": "",
     "delete_cmd_prefix": "del ",
     "library": "var_list.py",
     "varRefreshCmd": "print(var_dic_list())"
    },
    "r": {
     "delete_cmd_postfix": ") ",
     "delete_cmd_prefix": "rm(",
     "library": "var_list.r",
     "varRefreshCmd": "cat(var_dic_list()) "
    }
   },
   "oldHeight": 122.85400000000001,
   "position": {
    "height": "144.844px",
    "left": "713px",
    "right": "20px",
    "top": "116px",
    "width": "350px"
   },
   "types_to_exclude": [
    "module",
    "function",
    "builtin_function_or_method",
    "instance",
    "_Feature"
   ],
   "varInspector_section_display": "block",
   "window_display": false
  }
 },
 "nbformat": 4,
 "nbformat_minor": 5
}
