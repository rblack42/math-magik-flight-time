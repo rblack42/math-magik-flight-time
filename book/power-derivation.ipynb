{
 "cells": [
  {
   "cell_type": "markdown",
   "id": "f77209c7",
   "metadata": {},
   "source": [
    "## Derivation of Required Power\n",
    "\n",
    "McLean uses a simple equation to calculate the power needed for level flight. We will derive this equation here."
   ]
  },
  {
   "cell_type": "markdown",
   "id": "623c69eb",
   "metadata": {},
   "source": [
    "We start with the definitions of the lift, drag, and moment coefficients are:\n",
    "\n",
    "| $C_l = \\frac{L}{qS}$ | $C_d = \\frac{D}{qS}$| $C_m = \\frac{M}{qSc}$ |\n",
    "\n",
    "Where\n",
    "- $L$ is the lift force\n",
    "- $D$ is the drag force\n",
    "- $M$ is the moment about the \n",
    "- $q$ is the dymanic pressure\n",
    "- $S$ is a reference area\n",
    "- $c$ is the chord of the airfoil\n",
    "\n",
    "By convention, the pitching moment positive when it pitches the airfoil in the nose-up direction. For cambered airfoils, a lift force acting at the aerodynamic center will pitch nose-down so the pitching moment coefficient will be negative.\n",
    "\n",
    "The definition of dynamic pressure is:\n",
    "\n",
    "$$\n",
    "q = \\frac{1}{2}\\rho u^2\n",
    "$$"
   ]
  },
  {
   "cell_type": "markdown",
   "id": "a4a11bd2",
   "metadata": {},
   "source": [
    "![Pitchin Moment](./assets/images/pitching-moment.png)"
   ]
  },
  {
   "cell_type": "markdown",
   "id": "825d491a",
   "metadata": {},
   "source": [
    "The aerodynamic forces act through the *Mean Aerodynamic center*, so we need to figure out the forces acting on this model.\n",
    "\n",
    "Let $S_w$ be the surface area of the wing, and $S_s$ be the surface area of the stabilizer. The total moments about the center of gravidy can be calculated as follows:\n",
    "\n",
    "$$\n",
    "x L_w - l L_s\n",
    "$$\n",
    "\n",
    "Where:\n",
    "\n",
    "$$\n",
    "L_w = q S_w C_{lw}\n",
    "$$\n",
    "\n",
    "and\n",
    "\n",
    "$$\n",
    "L_s = q S_s C_{ls}\n",
    "$$\n"
   ]
  },
  {
   "cell_type": "code",
   "execution_count": 1,
   "id": "3c418a82",
   "metadata": {},
   "outputs": [],
   "source": [
    "import sympy"
   ]
  },
  {
   "cell_type": "code",
   "execution_count": 16,
   "id": "62d2baf4",
   "metadata": {},
   "outputs": [],
   "source": [
    "c_l, c_d, rho, u, S = sympy.symbols('c_l c_d rho u S')"
   ]
  },
  {
   "cell_type": "code",
   "execution_count": 17,
   "id": "885ec4a2",
   "metadata": {},
   "outputs": [],
   "source": [
    "E1 = c_l - rho * u ** 2/2"
   ]
  },
  {
   "cell_type": "code",
   "execution_count": 18,
   "id": "00438813",
   "metadata": {},
   "outputs": [
    {
     "data": {
      "text/latex": [
       "$\\displaystyle c_{l} - \\frac{\\rho u^{2}}{2}$"
      ],
      "text/plain": [
       "c_l - rho*u**2/2"
      ]
     },
     "execution_count": 18,
     "metadata": {},
     "output_type": "execute_result"
    }
   ],
   "source": [
    "E1"
   ]
  },
  {
   "cell_type": "code",
   "execution_count": 19,
   "id": "96e6073b",
   "metadata": {},
   "outputs": [],
   "source": [
    "M_w, M_ac = sympy.symbols('M_w M_ac')"
   ]
  },
  {
   "cell_type": "code",
   "execution_count": 20,
   "id": "1d919409",
   "metadata": {},
   "outputs": [
    {
     "data": {
      "text/latex": [
       "$\\displaystyle M_{ac}$"
      ],
      "text/plain": [
       "M_ac"
      ]
     },
     "execution_count": 20,
     "metadata": {},
     "output_type": "execute_result"
    }
   ],
   "source": [
    "M_ac"
   ]
  },
  {
   "cell_type": "code",
   "execution_count": 63,
   "id": "d16eb836",
   "metadata": {},
   "outputs": [
    {
     "data": {
      "text/plain": [
       "-0.2403409090909091"
      ]
     },
     "execution_count": 63,
     "metadata": {},
     "output_type": "execute_result"
    }
   ],
   "source": [
    "S_f = 30.0\n",
    "S_r = 0.4 * S_f\n",
    "C_f = 0.25 * 2\n",
    "C_r = 0.25 * 1.5\n",
    "C_mf = 0.10\n",
    "C_mr = 0.05\n",
    "x = .50 * 2\n",
    "l = 10\n",
    "\n",
    "C_lr = (-(x/C_f) - C_mf - C_mr*(S_r*C_r/(S_f*C_f))) / \\\n",
    "       ((1 + x/l)*(S_r * l / (S_f*C_f)))\n",
    "\n",
    "C_lr"
   ]
  },
  {
   "cell_type": "code",
   "execution_count": 41,
   "id": "c916b922",
   "metadata": {},
   "outputs": [
    {
     "data": {
      "text/plain": [
       "0.6456168831168831"
      ]
     },
     "execution_count": 41,
     "metadata": {},
     "output_type": "execute_result"
    }
   ],
   "source": [
    "C_l = (1 + S_r*C_lr/S_f) / \\\n",
    "      (1 + S_r/S_f)\n",
    "C_l"
   ]
  },
  {
   "cell_type": "markdown",
   "id": "05c5d642",
   "metadata": {},
   "source": [
    "Let's calculate the flight speed using Walt's formula:"
   ]
  },
  {
   "cell_type": "code",
   "execution_count": 46,
   "id": "e058d029",
   "metadata": {},
   "outputs": [],
   "source": [
    "import pint\n",
    "u = pint.UnitRegistry()"
   ]
  },
  {
   "cell_type": "code",
   "execution_count": 62,
   "id": "41ad38da",
   "metadata": {},
   "outputs": [],
   "source": [
    "WT = (1.2 + 0.86) * u.grams\n",
    "AW = 30.0 * u.inches ** 2\n",
    "PCW = 0.4\n",
    "S = (1 + PCW) * AW\n",
    "B_w = 15\n",
    "B_s = 9\n",
    "C_f = AW / B_w\n",
    "C_r = S / B_s"
   ]
  },
  {
   "cell_type": "code",
   "execution_count": 48,
   "id": "66d2776c",
   "metadata": {},
   "outputs": [],
   "source": [
    "density = 0.00119 * 2 * u.slugs/u.ft**3 # air density from program"
   ]
  },
  {
   "cell_type": "code",
   "execution_count": 49,
   "id": "11b80c84",
   "metadata": {},
   "outputs": [],
   "source": [
    "k1 = (WT * 2 * u.gravity) / (density * AW)\n",
    "k2 = C_l\n",
    "VE = (k1/k2)**0.5"
   ]
  },
  {
   "cell_type": "code",
   "execution_count": 50,
   "id": "e344f443",
   "metadata": {},
   "outputs": [
    {
     "data": {
      "text/html": [
       "5.326726989562554 foot/second"
      ],
      "text/latex": [
       "$5.326726989562554\\ \\frac{\\mathrm{foot}}{\\mathrm{second}}$"
      ],
      "text/plain": [
       "5.326726989562554 <Unit('foot / second')>"
      ]
     },
     "execution_count": 50,
     "metadata": {},
     "output_type": "execute_result"
    }
   ],
   "source": [
    "VE.to('ft/sec')"
   ]
  },
  {
   "cell_type": "markdown",
   "id": "484f7626",
   "metadata": {},
   "source": [
    "This seems a bit fast for his A6"
   ]
  },
  {
   "cell_type": "markdown",
   "id": "6b129c56",
   "metadata": {},
   "source": [
    "Now, lets use the formula from McLean's paper:"
   ]
  },
  {
   "cell_type": "code",
   "execution_count": 61,
   "id": "13b03428",
   "metadata": {},
   "outputs": [
    {
     "data": {
      "text/html": [
       "3.183328246019416 foot/second"
      ],
      "text/latex": [
       "$3.183328246019416\\ \\frac{\\mathrm{foot}}{\\mathrm{second}}$"
      ],
      "text/plain": [
       "3.183328246019416 <Unit('foot / second')>"
      ]
     },
     "execution_count": 61,
     "metadata": {},
     "output_type": "execute_result"
    }
   ],
   "source": [
    "import math\n",
    "\n",
    "V = ((WT * u.gravity /(C_l* S))/ density)**0.5\n",
    "V.to('ft/sec')"
   ]
  },
  {
   "cell_type": "markdown",
   "id": "6815e313",
   "metadata": {},
   "source": [
    "The coefficient data used in McLean's paper do not work using Erbach's scheme. Time for some adjustments."
   ]
  },
  {
   "cell_type": "code",
   "execution_count": 70,
   "id": "f9261b47",
   "metadata": {},
   "outputs": [
    {
     "data": {
      "text/html": [
       "-0.2403409090909091 dimensionless"
      ],
      "text/latex": [
       "$-0.2403409090909091\\ dimensionless$"
      ],
      "text/plain": [
       "-0.2403409090909091 <Unit('dimensionless')>"
      ]
     },
     "execution_count": 70,
     "metadata": {},
     "output_type": "execute_result"
    }
   ],
   "source": [
    "S_f = 30.0 * u.inches**2\n",
    "S_r = 0.4 * S_f\n",
    "C_f = 0.25 * 2 * u.inch\n",
    "C_r = 0.25 * 1.5 * u.inch\n",
    "C_mf = 0.10\n",
    "C_mr = 0.05\n",
    "C_la = 0.135\n",
    "C_da = 0.009\n",
    "x = .50 * 2 * u.inch\n",
    "l = 10 * u.inch\n",
    "M_f = C_la * \n",
    "\n",
    "C_lr = (-(x/C_f) - C_mf - C_mr*(S_r*C_r/(S_f*C_f))) / \\\n",
    "       ((1 + x/l)*(S_r * l / (S_f*C_f)))\n",
    "\n",
    "C_lr"
   ]
  },
  {
   "cell_type": "code",
   "execution_count": 71,
   "id": "fb7fede2",
   "metadata": {},
   "outputs": [],
   "source": [
    "k1 = (WT * 2 * u.gravity) / (density * (S_f + S_r))\n",
    "k2 = C_l\n",
    "VE = (k1/k2)**0.5"
   ]
  },
  {
   "cell_type": "code",
   "execution_count": 73,
   "id": "884e4c37",
   "metadata": {},
   "outputs": [
    {
     "data": {
      "text/html": [
       "4.501905979006015 foot/second"
      ],
      "text/latex": [
       "$4.501905979006015\\ \\frac{\\mathrm{foot}}{\\mathrm{second}}$"
      ],
      "text/plain": [
       "4.501905979006015 <Unit('foot / second')>"
      ]
     },
     "execution_count": 73,
     "metadata": {},
     "output_type": "execute_result"
    }
   ],
   "source": [
    "VE.to('ft/sec')"
   ]
  },
  {
   "cell_type": "markdown",
   "id": "99e0c377",
   "metadata": {},
   "source": [
    "This is better. Perhaps those moment values are off!"
   ]
  },
  {
   "cell_type": "markdown",
   "id": "69d46ddd",
   "metadata": {},
   "source": [
    "I found some wind tunnel data data for a 3% circular arc airfoil that will be useful. This chart is from an article titled *Effectiveness of Large-Camber Circular Arc Airfoil\n",
    "at Very Low Reynolds Numbers*. McLean assumed coefficient values that are not in line with this data, so we will update the coefficients."
   ]
  },
  {
   "cell_type": "markdown",
   "id": "e7c2ed49",
   "metadata": {},
   "source": [
    "![Circular Arc Coefficients](./assets/images/3%-circular-arc.png)"
   ]
  },
  {
   "cell_type": "markdown",
   "id": "da82872e",
   "metadata": {},
   "source": [
    "![Circular Arc Coefficients](./assets/images/3%-circular-arc-CM.png)"
   ]
  },
  {
   "cell_type": "markdown",
   "id": "38af5822",
   "metadata": {},
   "source": [
    "Our test data from Erbach's code has the wing at +2 degrees, and the stab at -2 degrees. Here are the coefficients we will use in our next test (using eyes only!)"
   ]
  },
  {
   "cell_type": "code",
   "execution_count": 77,
   "id": "16777ab6",
   "metadata": {},
   "outputs": [],
   "source": [
    "C_lw = 0.35\n",
    "C_dw = 0.05\n",
    "C_mw = -0.08\n",
    "\n",
    "C_ls = -0.20\n",
    "C_ds = 0.05\n",
    "C_ms = -0.04"
   ]
  },
  {
   "cell_type": "code",
   "execution_count": 78,
   "id": "8e40bf8f",
   "metadata": {},
   "outputs": [
    {
     "data": {
      "text/html": [
       "-0.2377272727272727 dimensionless"
      ],
      "text/latex": [
       "$-0.2377272727272727\\ dimensionless$"
      ],
      "text/plain": [
       "-0.2377272727272727 <Unit('dimensionless')>"
      ]
     },
     "execution_count": 78,
     "metadata": {},
     "output_type": "execute_result"
    }
   ],
   "source": [
    "C_lr = (-(x/C_f) + C_mw + C_ms*(S_r*C_r/(S_f*C_f))) / \\\n",
    "       ((1 + x/l)*(S_r * l / (S_f*C_f)))\n",
    "\n",
    "C_lr"
   ]
  },
  {
   "cell_type": "code",
   "execution_count": 79,
   "id": "e9d496ac",
   "metadata": {},
   "outputs": [
    {
     "data": {
      "text/html": [
       "0.6571428571428571 dimensionless"
      ],
      "text/latex": [
       "$0.6571428571428571\\ dimensionless$"
      ],
      "text/plain": [
       "0.6571428571428571 <Unit('dimensionless')>"
      ]
     },
     "execution_count": 79,
     "metadata": {},
     "output_type": "execute_result"
    }
   ],
   "source": [
    "C_l = (1 + S_r*C_ls/S_f) / \\\n",
    "      (1 + S_r/S_f)\n",
    "C_l"
   ]
  },
  {
   "cell_type": "code",
   "execution_count": 80,
   "id": "2c3f8fa1",
   "metadata": {},
   "outputs": [],
   "source": [
    "k1 = (WT * 2 * u.gravity) / (density * (S_f + S_r))\n",
    "k2 = C_l\n",
    "VE = (k1/k2)**0.5"
   ]
  },
  {
   "cell_type": "code",
   "execution_count": 82,
   "id": "4745bd36",
   "metadata": {},
   "outputs": [
    {
     "data": {
      "text/html": [
       "4.462250678203397 foot/second"
      ],
      "text/latex": [
       "$4.462250678203397\\ \\frac{\\mathrm{foot}}{\\mathrm{second}}$"
      ],
      "text/plain": [
       "4.462250678203397 <Unit('foot / second')>"
      ]
     },
     "execution_count": 82,
     "metadata": {},
     "output_type": "execute_result"
    }
   ],
   "source": [
    "VE.to('ft/sec')"
   ]
  },
  {
   "cell_type": "code",
   "execution_count": null,
   "id": "dbee3650",
   "metadata": {},
   "outputs": [],
   "source": []
  }
 ],
 "metadata": {
  "kernelspec": {
   "display_name": "Python 3 (ipykernel)",
   "language": "python",
   "name": "python3"
  },
  "language_info": {
   "codemirror_mode": {
    "name": "ipython",
    "version": 3
   },
   "file_extension": ".py",
   "mimetype": "text/x-python",
   "name": "python",
   "nbconvert_exporter": "python",
   "pygments_lexer": "ipython3",
   "version": "3.9.9"
  },
  "latex_envs": {
   "LaTeX_envs_menu_present": true,
   "autoclose": false,
   "autocomplete": true,
   "bibliofile": "biblio.bib",
   "cite_by": "apalike",
   "current_citInitial": 1,
   "eqLabelWithNumbers": true,
   "eqNumInitial": 1,
   "hotkeys": {
    "equation": "Ctrl-E",
    "itemize": "Ctrl-I"
   },
   "labels_anchors": false,
   "latex_user_defs": false,
   "report_style_numbering": false,
   "user_envs_cfg": false
  },
  "toc": {
   "base_numbering": 1,
   "nav_menu": {},
   "number_sections": true,
   "sideBar": true,
   "skip_h1_title": false,
   "title_cell": "Table of Contents",
   "title_sidebar": "Contents",
   "toc_cell": false,
   "toc_position": {},
   "toc_section_display": true,
   "toc_window_display": false
  },
  "varInspector": {
   "cols": {
    "lenName": 16,
    "lenType": 16,
    "lenVar": 40
   },
   "kernels_config": {
    "python": {
     "delete_cmd_postfix": "",
     "delete_cmd_prefix": "del ",
     "library": "var_list.py",
     "varRefreshCmd": "print(var_dic_list())"
    },
    "r": {
     "delete_cmd_postfix": ") ",
     "delete_cmd_prefix": "rm(",
     "library": "var_list.r",
     "varRefreshCmd": "cat(var_dic_list()) "
    }
   },
   "types_to_exclude": [
    "module",
    "function",
    "builtin_function_or_method",
    "instance",
    "_Feature"
   ],
   "window_display": false
  }
 },
 "nbformat": 4,
 "nbformat_minor": 5
}
