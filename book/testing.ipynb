{
 "cells": [
  {
   "cell_type": "code",
   "execution_count": 1,
   "id": "79773472",
   "metadata": {},
   "outputs": [],
   "source": [
    "import math"
   ]
  },
  {
   "cell_type": "code",
   "execution_count": 2,
   "id": "a36a7d58",
   "metadata": {},
   "outputs": [],
   "source": [
    "def normal(n,d):\n",
    "    f = 10**n\n",
    "    d1 = d * f\n",
    "    d1 = int(d1)\n",
    "    d1 = d1/f\n",
    "    return d1"
   ]
  },
  {
   "cell_type": "code",
   "execution_count": 3,
   "id": "a07dbd44",
   "metadata": {},
   "outputs": [],
   "source": [
    "Ljw = 0.2\n",
    "Djw = 0.01\n",
    "\n",
    "Ljs = 0.06\n",
    "Djs = 0.008\n",
    "\n",
    "WT = 0.070/16\n",
    "SW = 150/144\n",
    "PCW = 0.40\n",
    "CG = 0.4\n",
    "WC = 5.5\n",
    "WH = 3.0\n",
    "SA = -2\n",
    "TA = 17.0"
   ]
  },
  {
   "cell_type": "code",
   "execution_count": 4,
   "id": "9975b1d9",
   "metadata": {},
   "outputs": [
    {
     "data": {
      "text/plain": [
       "3.969"
      ]
     },
     "execution_count": 4,
     "metadata": {},
     "output_type": "execute_result"
    }
   ],
   "source": [
    "VE = (WT/(0.00119*SW*(Ljw+PCW*Ljs)))**0.5\n",
    "VE = normal(3,VE)\n",
    "VE"
   ]
  },
  {
   "cell_type": "code",
   "execution_count": 5,
   "id": "91286dcb",
   "metadata": {},
   "outputs": [
    {
     "data": {
      "text/plain": [
       "0.06248674530000001"
      ]
     },
     "execution_count": 5,
     "metadata": {},
     "output_type": "execute_result"
    }
   ],
   "source": [
    "AWL=Ljw*SW*(0.00119)*VE*VE*16\n",
    "AWL"
   ]
  },
  {
   "cell_type": "code",
   "execution_count": 6,
   "id": "230469ca",
   "metadata": {},
   "outputs": [
    {
     "data": {
      "text/plain": [
       "0.0031243372650000003"
      ]
     },
     "execution_count": 6,
     "metadata": {},
     "output_type": "execute_result"
    }
   ],
   "source": [
    "BWD = Djw*SW*(0.00119)*VE*VE*16\n",
    "BWD"
   ]
  },
  {
   "cell_type": "code",
   "execution_count": 7,
   "id": "6756d598",
   "metadata": {},
   "outputs": [
    {
     "data": {
      "text/plain": [
       "0.007498409436"
      ]
     },
     "execution_count": 7,
     "metadata": {},
     "output_type": "execute_result"
    }
   ],
   "source": [
    "CTL=Ljs*SW*PCW*(0.00119)*VE*VE*16\n",
    "CTL"
   ]
  },
  {
   "cell_type": "code",
   "execution_count": 8,
   "id": "ba24bf8b",
   "metadata": {},
   "outputs": [
    {
     "data": {
      "text/plain": [
       "0.0009997879248"
      ]
     },
     "execution_count": 8,
     "metadata": {},
     "output_type": "execute_result"
    }
   ],
   "source": [
    "DTD = Djs*SW*PCW*(0.00119)*VE*VE*16\n",
    "DTD"
   ]
  },
  {
   "cell_type": "code",
   "execution_count": 9,
   "id": "f1979cb1",
   "metadata": {},
   "outputs": [
    {
     "data": {
      "text/plain": [
       "0.196"
      ]
     },
     "execution_count": 9,
     "metadata": {},
     "output_type": "execute_result"
    }
   ],
   "source": [
    "P = VE * (BWD+DTD)*12\n",
    "P = normal(3,P)\n",
    "P"
   ]
  },
  {
   "cell_type": "code",
   "execution_count": 10,
   "id": "13998b0c",
   "metadata": {},
   "outputs": [
    {
     "data": {
      "text/plain": [
       "0.8250000000000002"
      ]
     },
     "execution_count": 10,
     "metadata": {},
     "output_type": "execute_result"
    }
   ],
   "source": [
    "DW = WC * (CG -0.25)\n",
    "DW"
   ]
  },
  {
   "cell_type": "code",
   "execution_count": 11,
   "id": "d8b895db",
   "metadata": {},
   "outputs": [
    {
     "data": {
      "text/plain": [
       "-0.03490658503988659"
      ]
     },
     "execution_count": 11,
     "metadata": {},
     "output_type": "execute_result"
    }
   ],
   "source": [
    "R=SA * math.pi / 180.0\n",
    "R"
   ]
  },
  {
   "cell_type": "code",
   "execution_count": 12,
   "id": "e7ff45a5",
   "metadata": {},
   "outputs": [
    {
     "data": {
      "text/plain": [
       "-0.9291959223982571"
      ]
     },
     "execution_count": 12,
     "metadata": {},
     "output_type": "execute_result"
    }
   ],
   "source": [
    "EWLA = WH * math.sin(R) - DW * math.cos(R)\n",
    "EWLA"
   ]
  },
  {
   "cell_type": "code",
   "execution_count": 13,
   "id": "7d26acf0",
   "metadata": {},
   "outputs": [
    {
     "data": {
      "text/plain": [
       "3.0269645658368507"
      ]
     },
     "execution_count": 13,
     "metadata": {},
     "output_type": "execute_result"
    }
   ],
   "source": [
    "FWDA = WH * math.cos(R) - DW * math.sin(R)\n",
    "FWDA"
   ]
  },
  {
   "cell_type": "code",
   "execution_count": 14,
   "id": "b410c7c7",
   "metadata": {},
   "outputs": [
    {
     "data": {
      "text/plain": [
       "16.165146627033874"
      ]
     },
     "execution_count": 14,
     "metadata": {},
     "output_type": "execute_result"
    }
   ],
   "source": [
    "GTLA=(TA-DW)*math.cos(R)\n",
    "GTLA"
   ]
  },
  {
   "cell_type": "code",
   "execution_count": 15,
   "id": "5ed53e7d",
   "metadata": {},
   "outputs": [
    {
     "data": {
      "text/plain": [
       "-0.5644993591629532"
      ]
     },
     "execution_count": 15,
     "metadata": {},
     "output_type": "execute_result"
    }
   ],
   "source": [
    "HTDA=(TA-DW)*math.sin(R)\n",
    "HTDA"
   ]
  },
  {
   "cell_type": "code",
   "execution_count": 16,
   "id": "664277b2",
   "metadata": {},
   "outputs": [
    {
     "data": {
      "text/plain": [
       "0.05806242893669846"
      ]
     },
     "execution_count": 16,
     "metadata": {},
     "output_type": "execute_result"
    }
   ],
   "source": [
    "JMWL=-AWL*EWLA\n",
    "JMWL"
   ]
  },
  {
   "cell_type": "code",
   "execution_count": 17,
   "id": "270c4659",
   "metadata": {},
   "outputs": [
    {
     "data": {
      "text/plain": [
       "0.009457258192878619"
      ]
     },
     "execution_count": 17,
     "metadata": {},
     "output_type": "execute_result"
    }
   ],
   "source": [
    "KMWD=+BWD*FWDA\n",
    "KMWD"
   ]
  },
  {
   "cell_type": "code",
   "execution_count": 18,
   "id": "bee72346",
   "metadata": {},
   "outputs": [
    {
     "data": {
      "text/plain": [
       "-0.12121288800247437"
      ]
     },
     "execution_count": 18,
     "metadata": {},
     "output_type": "execute_result"
    }
   ],
   "source": [
    "LMTL=-CTL*GTLA\n",
    "LMTL"
   ]
  },
  {
   "cell_type": "code",
   "execution_count": 19,
   "id": "6dbadcee",
   "metadata": {},
   "outputs": [
    {
     "data": {
      "text/plain": [
       "0.0005643796428484589"
      ]
     },
     "execution_count": 19,
     "metadata": {},
     "output_type": "execute_result"
    }
   ],
   "source": [
    "MMTD=-DTD*HTDA\n",
    "MMTD"
   ]
  },
  {
   "cell_type": "code",
   "execution_count": 22,
   "id": "a357948c",
   "metadata": {},
   "outputs": [
    {
     "data": {
      "text/plain": [
       "-0.0531"
      ]
     },
     "execution_count": 22,
     "metadata": {},
     "output_type": "execute_result"
    }
   ],
   "source": [
    "Mki = JMWL+KMWD+LMTL+MMTD\n",
    "Mki = normal(4,Mki)\n",
    "Mki"
   ]
  }
 ],
 "metadata": {
  "kernelspec": {
   "display_name": "Python 3 (ipykernel)",
   "language": "python",
   "name": "python3"
  },
  "language_info": {
   "codemirror_mode": {
    "name": "ipython",
    "version": 3
   },
   "file_extension": ".py",
   "mimetype": "text/x-python",
   "name": "python",
   "nbconvert_exporter": "python",
   "pygments_lexer": "ipython3",
   "version": "3.9.9"
  },
  "latex_envs": {
   "LaTeX_envs_menu_present": false,
   "autoclose": false,
   "autocomplete": true,
   "bibliofile": "biblio.bib",
   "cite_by": "apalike",
   "current_citInitial": 1,
   "eqLabelWithNumbers": true,
   "eqNumInitial": 1,
   "hotkeys": {
    "equation": "Ctrl-E",
    "itemize": "Ctrl-I"
   },
   "labels_anchors": true,
   "latex_user_defs": false,
   "report_style_numbering": false,
   "user_envs_cfg": false
  },
  "toc": {
   "base_numbering": 1,
   "nav_menu": {},
   "number_sections": true,
   "sideBar": true,
   "skip_h1_title": false,
   "title_cell": "Table of Contents",
   "title_sidebar": "Contents",
   "toc_cell": false,
   "toc_position": {},
   "toc_section_display": true,
   "toc_window_display": false
  },
  "varInspector": {
   "cols": {
    "lenName": 16,
    "lenType": 16,
    "lenVar": 40
   },
   "kernels_config": {
    "python": {
     "delete_cmd_postfix": "",
     "delete_cmd_prefix": "del ",
     "library": "var_list.py",
     "varRefreshCmd": "print(var_dic_list())"
    },
    "r": {
     "delete_cmd_postfix": ") ",
     "delete_cmd_prefix": "rm(",
     "library": "var_list.r",
     "varRefreshCmd": "cat(var_dic_list()) "
    }
   },
   "types_to_exclude": [
    "module",
    "function",
    "builtin_function_or_method",
    "instance",
    "_Feature"
   ],
   "window_display": false
  }
 },
 "nbformat": 4,
 "nbformat_minor": 5
}
