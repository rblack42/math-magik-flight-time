{
 "cells": [
  {
   "cell_type": "markdown",
   "id": "7aee099a",
   "metadata": {},
   "source": [
    "# Wart Flight Data\n",
    "\n",
    "I loaded historical data from Gary Hodson on flights made by the Wart back in the early 2000s. This page details loading that data for future analysis."
   ]
  },
  {
   "cell_type": "code",
   "execution_count": null,
   "id": "0cb6d1a2",
   "metadata": {},
   "outputs": [],
   "source": [
    "import json"
   ]
  },
  {
   "cell_type": "code",
   "execution_count": 3,
   "id": "67fedb23",
   "metadata": {},
   "outputs": [],
   "source": [
    "fn = \"../data/wart-history.json\"\n",
    "\n",
    "with open(fn,'r') as fin:\n",
    "    wdata = json.load(fin)"
   ]
  },
  {
   "cell_type": "code",
   "execution_count": 4,
   "id": "3115e128",
   "metadata": {},
   "outputs": [
    {
     "data": {
      "text/plain": [
       "[{'date': 2001,\n",
       "  'Pitch': 45,\n",
       "  'motor': {'weight': 0.9, 'size': '40x42', 'length': 17.5},\n",
       "  'flight': {'turns': 3375, 'time': '8:51', 'site': 'Akron'}},\n",
       " {'date': 2001,\n",
       "  'Pitch': 45,\n",
       "  'motor': {'weight': 0.98, 'size': '42x45', 'length': 18.0},\n",
       "  'flight': {'turns': 3570, 'time': '8:56', 'site': 'Akron'}},\n",
       " {'date': 2001,\n",
       "  'Pitch': 45,\n",
       "  'motor': {'weight': 0.0, 'size': '39x44', 'length': 17.0},\n",
       "  'flight': {'turns': 2940, 'time': '8:35', 'site': 'johnson City'}},\n",
       " {'date': 2002,\n",
       "  'Pitch': 45,\n",
       "  'motor': {'weight': 0.0, 'size': '39x40', 'length': 18.0},\n",
       "  'flight': {'turns': 3550, 'time': '9:04', 'site': 'Johnson City'}},\n",
       " {'date': 2003,\n",
       "  'Pitch': 45,\n",
       "  'motor': {'weight': 0.83, 'size': '0x0', 'length': 18.0},\n",
       "  'flight': {'turns': 3860, 'time': '9:10', 'site': 'Johnson City'}},\n",
       " {'date': 2004,\n",
       "  'Pitch': 47,\n",
       "  'motor': {'weight': 0.88, 'size': '0x0', 'length': 19.0},\n",
       "  'flight': {'turns': 3820, 'time': '9:54', 'site': 'Johnson City'}},\n",
       " {'date': 2005,\n",
       "  'Pitch': 47,\n",
       "  'motor': {'weight': 0.8, 'size': '35x40', 'length': 18.0},\n",
       "  'flight': {'turns': 3740, 'time': '10:07', 'site': 'Johnson City'}},\n",
       " {'date': 2006,\n",
       "  'Pitch': 45,\n",
       "  'motor': {'weight': 0.82, 'size': '0x0', 'length': 18.0},\n",
       "  'flight': {'turns': 3900, 'time': '10:05', 'site': 'Johnson City'}},\n",
       " {'date': 2006,\n",
       "  'Pitch': 42,\n",
       "  'motor': {'weight': 0.78, 'size': '31x0', 'length': 18.5},\n",
       "  'flight': {'turns': 3920, 'time': '9:46', 'site': 'Johnson City'}},\n",
       " {'date': 2006,\n",
       "  'Pitch': 42,\n",
       "  'motor': {'weight': 0.75, 'size': '34x0?', 'length': 18.0},\n",
       "  'flight': {'turns': 3990, 'time': '9:46', 'site': 'Johnson City'}},\n",
       " {'date': 2008,\n",
       "  'Pitch': 0,\n",
       "  'motor': {'weight': 0.86, 'size': '34x0', 'length': 18.0},\n",
       "  'flight': {'turns': 3880, 'time': '9:45', 'site': 'Johnson City'}},\n",
       " {'date': 2002,\n",
       "  'Pitch': 47,\n",
       "  'motor': {'weight': 0.91, 'size': '36x38', 'length': 20.0},\n",
       "  'flight': {'turns': 3780, 'time': '10:07', 'site': 'Kibbie Dome'}},\n",
       " {'date': 2002,\n",
       "  'Pitch': 47,\n",
       "  'motor': {'weight': 0.95, 'size': '0x0', 'length': 18.0},\n",
       "  'flight': {'turns': 3600, 'time': '9:20', 'site': 'Kibbie Dome'}},\n",
       " {'date': 2003,\n",
       "  'Pitch': 45,\n",
       "  'motor': {'weight': 0.94, 'size': '0x0', 'length': 19.0},\n",
       "  'flight': {'turns': 4050, 'time': '10:13', 'site': 'Kibbie Dome'}},\n",
       " {'date': 2003,\n",
       "  'Pitch': 47,\n",
       "  'motor': {'weight': 0.95, 'size': '0x0', 'length': 19.0},\n",
       "  'flight': {'turns': 3785, 'time': '10:17', 'site': 'Kibbie Dome'}},\n",
       " {'date': 2003,\n",
       "  'Pitch': 47,\n",
       "  'motor': {'weight': 0.86, 'size': '0x0', 'length': 18.0},\n",
       "  'flight': {'turns': 3660, 'time': '10:18', 'site': 'Kibbie Dome'}},\n",
       " {'date': 2004,\n",
       "  'Pitch': 45,\n",
       "  'motor': {'weight': 0.82, 'size': '0x0', 'length': 18.0},\n",
       "  'flight': {'turns': 3860, 'time': '10:16', 'site': 'Kibbie Dome'}},\n",
       " {'date': 2004,\n",
       "  'Pitch': 45,\n",
       "  'motor': {'weight': 0.81, 'size': '0x0', 'length': 18.0},\n",
       "  'flight': {'turns': 3785, 'time': '10:14', 'site': 'Kibbie Dome'}},\n",
       " {'date': 2004,\n",
       "  'Pitch': 45,\n",
       "  'motor': {'weight': 0.81, 'size': '0x0', 'length': 18.0},\n",
       "  'flight': {'turns': 3740, 'time': '9:54', 'site': 'Kibbie Dome'}},\n",
       " {'date': 2005,\n",
       "  'Pitch': 40,\n",
       "  'motor': {'weight': 0.78, 'size': '35x40', 'length': 18.0},\n",
       "  'flight': {'turns': 3855, 'time': '9:43', 'site': 'Kibbie Dome'}},\n",
       " {'date': 2008,\n",
       "  'Pitch': 45,\n",
       "  'motor': {'weight': 0.8, 'size': '0x0', 'length': 18.0},\n",
       "  'flight': {'turns': 3640, 'time': '9:48', 'site': 'Kibbie Dome'}},\n",
       " {'date': 2002,\n",
       "  'Pitch': 45,\n",
       "  'motor': {'weight': 0.0, 'size': '39x44', 'length': 17.0},\n",
       "  'flight': {'turns': 2940, 'time': '6:38', 'site': 'Beatrice'}},\n",
       " {'date': 2003,\n",
       "  'Pitch': 47,\n",
       "  'motor': {'weight': 0.74, 'size': '37x40', 'length': 16.0},\n",
       "  'flight': {'turns': 3075, 'time': '6:45', 'site': 'Beatrice'}},\n",
       " {'date': 2004,\n",
       "  'Pitch': 47,\n",
       "  'motor': {'weight': 0.79, 'size': '37x40', 'length': 18.0},\n",
       "  'flight': {'turns': 3500, 'time': '7:02', 'site': 'Beatrice'}},\n",
       " {'date': 2004,\n",
       "  'Pitch': 0,\n",
       "  'motor': {'weight': 0.95, 'size': '38x0', 'length': 17.0},\n",
       "  'flight': {'turns': 0, 'time': '7:01', 'site': 'Beatrice'}},\n",
       " {'date': 2005,\n",
       "  'Pitch': 42,\n",
       "  'motor': {'weight': 0.84, 'size': '0x0', 'length': 18.0},\n",
       "  'flight': {'turns': 3300, 'time': '7:20', 'site': 'Beatrice'}}]"
      ]
     },
     "execution_count": 4,
     "metadata": {},
     "output_type": "execute_result"
    }
   ],
   "source": [
    "wdata"
   ]
  },
  {
   "cell_type": "code",
   "execution_count": 19,
   "id": "688e6783",
   "metadata": {},
   "outputs": [],
   "source": [
    "def decode_line(line):\n",
    "    date = line['date']\n",
    "    pitch = line['Pitch']\n",
    "    motor = line['motor']\n",
    "    weight = motor['weight']\n",
    "    size = motor['size']\n",
    "    length = motor['length']\n",
    "    flight = line['flight']\n",
    "    turns = flight['turns']\n",
    "    time = flight['time']\n",
    "    m,s = time.split(\":\")\n",
    "    t = int(m)*60 + int(s)\n",
    "    time = str(t)\n",
    "    site = flight['site']\n",
    "    print(\"{0:4d}, {1:2d}, {2:4.2f}, {3:5s}, {4:4.1f}, {5:4d}, {6:5s}, {7:10s}\".format(date, pitch, weight, size, length, turns, time, site))\n",
    "        "
   ]
  },
  {
   "cell_type": "code",
   "execution_count": 20,
   "id": "f81fa47c",
   "metadata": {},
   "outputs": [
    {
     "name": "stdout",
     "output_type": "stream",
     "text": [
      "2001, 45, 0.90, 40x42, 17.5, 3375, 531  , Akron     \n",
      "2001, 45, 0.98, 42x45, 18.0, 3570, 536  , Akron     \n",
      "2001, 45, 0.00, 39x44, 17.0, 2940, 515  , johnson City\n",
      "2002, 45, 0.00, 39x40, 18.0, 3550, 544  , Johnson City\n",
      "2003, 45, 0.83, 0x0  , 18.0, 3860, 550  , Johnson City\n",
      "2004, 47, 0.88, 0x0  , 19.0, 3820, 594  , Johnson City\n",
      "2005, 47, 0.80, 35x40, 18.0, 3740, 607  , Johnson City\n",
      "2006, 45, 0.82, 0x0  , 18.0, 3900, 605  , Johnson City\n",
      "2006, 42, 0.78, 31x0 , 18.5, 3920, 586  , Johnson City\n",
      "2006, 42, 0.75, 34x0?, 18.0, 3990, 586  , Johnson City\n",
      "2008,  0, 0.86, 34x0 , 18.0, 3880, 585  , Johnson City\n",
      "2002, 47, 0.91, 36x38, 20.0, 3780, 607  , Kibbie Dome\n",
      "2002, 47, 0.95, 0x0  , 18.0, 3600, 560  , Kibbie Dome\n",
      "2003, 45, 0.94, 0x0  , 19.0, 4050, 613  , Kibbie Dome\n",
      "2003, 47, 0.95, 0x0  , 19.0, 3785, 617  , Kibbie Dome\n",
      "2003, 47, 0.86, 0x0  , 18.0, 3660, 618  , Kibbie Dome\n",
      "2004, 45, 0.82, 0x0  , 18.0, 3860, 616  , Kibbie Dome\n",
      "2004, 45, 0.81, 0x0  , 18.0, 3785, 614  , Kibbie Dome\n",
      "2004, 45, 0.81, 0x0  , 18.0, 3740, 594  , Kibbie Dome\n",
      "2005, 40, 0.78, 35x40, 18.0, 3855, 583  , Kibbie Dome\n",
      "2008, 45, 0.80, 0x0  , 18.0, 3640, 588  , Kibbie Dome\n",
      "2002, 45, 0.00, 39x44, 17.0, 2940, 398  , Beatrice  \n",
      "2003, 47, 0.74, 37x40, 16.0, 3075, 405  , Beatrice  \n",
      "2004, 47, 0.79, 37x40, 18.0, 3500, 422  , Beatrice  \n",
      "2004,  0, 0.95, 38x0 , 17.0,    0, 421  , Beatrice  \n",
      "2005, 42, 0.84, 0x0  , 18.0, 3300, 440  , Beatrice  \n"
     ]
    }
   ],
   "source": [
    "for line in wdata:\n",
    "    decode_line(line)"
   ]
  },
  {
   "cell_type": "code",
   "execution_count": null,
   "id": "8f82721c",
   "metadata": {},
   "outputs": [],
   "source": []
  },
  {
   "cell_type": "code",
   "execution_count": null,
   "id": "b10ce4ae",
   "metadata": {},
   "outputs": [],
   "source": []
  },
  {
   "cell_type": "code",
   "execution_count": null,
   "id": "27c21eea",
   "metadata": {},
   "outputs": [],
   "source": []
  }
 ],
 "metadata": {
  "kernelspec": {
   "display_name": "Python 3 (ipykernel)",
   "language": "python",
   "name": "python3"
  },
  "language_info": {
   "codemirror_mode": {
    "name": "ipython",
    "version": 3
   },
   "file_extension": ".py",
   "mimetype": "text/x-python",
   "name": "python",
   "nbconvert_exporter": "python",
   "pygments_lexer": "ipython3",
   "version": "3.9.9"
  },
  "latex_envs": {
   "LaTeX_envs_menu_present": true,
   "autoclose": false,
   "autocomplete": true,
   "bibliofile": "biblio.bib",
   "cite_by": "apalike",
   "current_citInitial": 1,
   "eqLabelWithNumbers": true,
   "eqNumInitial": 1,
   "hotkeys": {
    "equation": "Ctrl-E",
    "itemize": "Ctrl-I"
   },
   "labels_anchors": false,
   "latex_user_defs": false,
   "report_style_numbering": false,
   "user_envs_cfg": false
  },
  "toc": {
   "base_numbering": 1,
   "nav_menu": {},
   "number_sections": true,
   "sideBar": true,
   "skip_h1_title": false,
   "title_cell": "Table of Contents",
   "title_sidebar": "Contents",
   "toc_cell": false,
   "toc_position": {},
   "toc_section_display": true,
   "toc_window_display": false
  },
  "varInspector": {
   "cols": {
    "lenName": 16,
    "lenType": 16,
    "lenVar": 40
   },
   "kernels_config": {
    "python": {
     "delete_cmd_postfix": "",
     "delete_cmd_prefix": "del ",
     "library": "var_list.py",
     "varRefreshCmd": "print(var_dic_list())"
    },
    "r": {
     "delete_cmd_postfix": ") ",
     "delete_cmd_prefix": "rm(",
     "library": "var_list.r",
     "varRefreshCmd": "cat(var_dic_list()) "
    }
   },
   "types_to_exclude": [
    "module",
    "function",
    "builtin_function_or_method",
    "instance",
    "_Feature"
   ],
   "window_display": false
  }
 },
 "nbformat": 4,
 "nbformat_minor": 5
}
