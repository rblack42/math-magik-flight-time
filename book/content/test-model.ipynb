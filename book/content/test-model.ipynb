{
 "cells": [
  {
   "cell_type": "markdown",
   "id": "6e4b5e4f",
   "metadata": {},
   "source": [
    "# Test Model"
   ]
  },
  {
   "cell_type": "markdown",
   "id": "8a4fe7c7",
   "metadata": {},
   "source": [
    "I am a member of the *Heart of Americal Free Flight Association* and one of my fellow club members is Gary Hodson. Gary has been flying indoor models for some time, and is a respected builder. He has set National Recods and won competitions over the years, so I am using data from one of his award-winning models, the Wart A-6 model as a test case for this article.\n",
    "\n",
    "![Hodson's Wart A6](../../assets/images/wart-a6.png)"
   ]
  },
  {
   "cell_type": "markdown",
   "id": "21b4b1dc",
   "metadata": {},
   "source": [
    "Here is the data from this model we will use in this article:\n",
    "    \n",
    "- Airframe weight = 1.2 grams\n",
    "- wing surface area = 30 inchs square\n",
    "- Motor weight = 0.86 grams\n",
    "- Best Flight Time = 10:18 (Kibby Dome, 2003)\n",
    "- Best flight turns = 3660\n",
    "- Site height = 147 feet\n",
    "- Site elevation = 2610 feet"
   ]
  },
  {
   "cell_type": "markdown",
   "id": "919164f7",
   "metadata": {},
   "source": [
    "Let's save this data in a file so other *Jupyter* pages can access these values."
   ]
  },
  {
   "cell_type": "code",
   "execution_count": 1,
   "id": "a14748ab",
   "metadata": {},
   "outputs": [],
   "source": [
    "fout = open(\"wart_data.py\", \"w\")\n",
    "fout.write(\"import pint\\n\")\n",
    "fout.write(\"u = pint.UnitRegistry()\\n\")\n",
    "\n",
    "fout.write(\"airframe_weight = 1.2 * u.grams\\n\")\n",
    "fout.write(\"wing_surface_area = 20 * u.inch**2\\n\")\n",
    "fout.write(\"wart_motor_weight = 0.86 * u.grams\\n\")\n",
    "fout.write(\"wart_best_time = 618 * u.seconds\\n\")\n",
    "fout.write(\"wart_turns = 3660\\n\")\n",
    "fout.write(\"site_height = 147 * u.feet\\n\")\n",
    "fout.write(\"site_elevation = 2169 * u.feet\\n\")\n",
    "fout.close()"
   ]
  },
  {
   "cell_type": "code",
   "execution_count": 2,
   "id": "9754a93e",
   "metadata": {},
   "outputs": [
    {
     "name": "stdout",
     "output_type": "stream",
     "text": [
      "1.2 gram\n",
      "3660\n"
     ]
    }
   ],
   "source": [
    "import wart_data\n",
    "print(wart_data.airframe_weight)\n",
    "print(wart_data.wart_turns)"
   ]
  },
  {
   "cell_type": "markdown",
   "id": "9356aa9b",
   "metadata": {},
   "source": [
    "```{warning}\n",
    "Editing this file and executing the above cell does not update the output file. Jupyter caches output normal. This needs to be forced for a proper update. \n",
    "```"
   ]
  },
  {
   "cell_type": "code",
   "execution_count": null,
   "id": "6f99aee1",
   "metadata": {},
   "outputs": [],
   "source": []
  },
  {
   "cell_type": "code",
   "execution_count": null,
   "id": "31ff48ff",
   "metadata": {},
   "outputs": [],
   "source": []
  },
  {
   "cell_type": "code",
   "execution_count": null,
   "id": "2f0871b0",
   "metadata": {},
   "outputs": [],
   "source": []
  }
 ],
 "metadata": {
  "kernelspec": {
   "display_name": "Python 3 (ipykernel)",
   "language": "python",
   "name": "python3"
  },
  "language_info": {
   "codemirror_mode": {
    "name": "ipython",
    "version": 3
   },
   "file_extension": ".py",
   "mimetype": "text/x-python",
   "name": "python",
   "nbconvert_exporter": "python",
   "pygments_lexer": "ipython3",
   "version": "3.9.9"
  },
  "latex_envs": {
   "LaTeX_envs_menu_present": true,
   "autoclose": false,
   "autocomplete": true,
   "bibliofile": "biblio.bib",
   "cite_by": "apalike",
   "current_citInitial": 1,
   "eqLabelWithNumbers": true,
   "eqNumInitial": 1,
   "hotkeys": {
    "equation": "Ctrl-E",
    "itemize": "Ctrl-I"
   },
   "labels_anchors": false,
   "latex_user_defs": false,
   "report_style_numbering": false,
   "user_envs_cfg": false
  },
  "toc": {
   "base_numbering": 1,
   "nav_menu": {},
   "number_sections": true,
   "sideBar": true,
   "skip_h1_title": false,
   "title_cell": "Table of Contents",
   "title_sidebar": "Contents",
   "toc_cell": false,
   "toc_position": {},
   "toc_section_display": true,
   "toc_window_display": true
  }
 },
 "nbformat": 4,
 "nbformat_minor": 5
}
