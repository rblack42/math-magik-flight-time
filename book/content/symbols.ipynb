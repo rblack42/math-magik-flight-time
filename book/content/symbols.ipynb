{
 "cells": [
  {
   "cell_type": "markdown",
   "id": "6de9bbd6",
   "metadata": {},
   "source": [
    "# Symbols\n",
    "\n",
    "The following table shows all symbols used in this document.\n",
    "\n",
    "| Symbol      | Description                   | units        |\n",
    "| :-: | :- | :- |\n",
    "| $k_m$       | Rubber energy coefficient     | inches       |\n",
    "| $w_m$       | Rubber motor weight           | $gm$.        |\n",
    "| $P$         | Thrust Power for level flight | $kg m/sec^2$ |"
   ]
  },
  {
   "cell_type": "markdown",
   "id": "a2d4e45e",
   "metadata": {},
   "source": [
    "Left aligned column | Centered column | Right aligned column\n",
    ":-|:-:|-:\n",
    "**Bold data**|*Italic data*| Normal data"
   ]
  },
  {
   "cell_type": "code",
   "execution_count": null,
   "id": "ac4f3611",
   "metadata": {},
   "outputs": [],
   "source": []
  }
 ],
 "metadata": {
  "kernelspec": {
   "display_name": "Python 3 (ipykernel)",
   "language": "python",
   "name": "python3"
  },
  "language_info": {
   "codemirror_mode": {
    "name": "ipython",
    "version": 3
   },
   "file_extension": ".py",
   "mimetype": "text/x-python",
   "name": "python",
   "nbconvert_exporter": "python",
   "pygments_lexer": "ipython3",
   "version": "3.9.9"
  },
  "latex_envs": {
   "LaTeX_envs_menu_present": true,
   "autoclose": false,
   "autocomplete": true,
   "bibliofile": "biblio.bib",
   "cite_by": "apalike",
   "current_citInitial": 1,
   "eqLabelWithNumbers": true,
   "eqNumInitial": 1,
   "hotkeys": {
    "equation": "Ctrl-E",
    "itemize": "Ctrl-I"
   },
   "labels_anchors": false,
   "latex_user_defs": false,
   "report_style_numbering": false,
   "user_envs_cfg": false
  },
  "toc": {
   "base_numbering": 1,
   "nav_menu": {},
   "number_sections": true,
   "sideBar": true,
   "skip_h1_title": false,
   "title_cell": "Table of Contents",
   "title_sidebar": "Contents",
   "toc_cell": false,
   "toc_position": {},
   "toc_section_display": true,
   "toc_window_display": false
  }
 },
 "nbformat": 4,
 "nbformat_minor": 5
}
