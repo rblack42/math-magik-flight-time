{
 "cells": [
  {
   "cell_type": "markdown",
   "id": "e947f849",
   "metadata": {},
   "source": [
    "# Estimating Indoor Model Flight Times"
   ]
  },
  {
   "cell_type": "markdown",
   "id": "ed721c78",
   "metadata": {},
   "source": [
    "In the 1976 edition of the NFFS Symposium Doug McLean presented a method for predicting indoor model flight times {cite}`mclean`. This article will revisit mis techniques, and present Python code suitable for use in today's computer driven world!\n",
    "    \n",
    "This effort is part of the *Math Magik* project I started to host my research work into the flight of indoor model airplanes. See [Math Magik](https://rblack42.github.io/math-magik) for more information."
   ]
  },
  {
   "cell_type": "code",
   "execution_count": null,
   "id": "94972319",
   "metadata": {},
   "outputs": [],
   "source": []
  }
 ],
 "metadata": {
  "kernelspec": {
   "display_name": "Python 3 (ipykernel)",
   "language": "python",
   "name": "python3"
  },
  "language_info": {
   "codemirror_mode": {
    "name": "ipython",
    "version": 3
   },
   "file_extension": ".py",
   "mimetype": "text/x-python",
   "name": "python",
   "nbconvert_exporter": "python",
   "pygments_lexer": "ipython3",
   "version": "3.9.9"
  }
 },
 "nbformat": 4,
 "nbformat_minor": 5
}
