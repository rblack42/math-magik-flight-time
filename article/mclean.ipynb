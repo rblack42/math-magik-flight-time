{
 "cells": [
  {
   "cell_type": "markdown",
   "id": "84ada13b",
   "metadata": {},
   "source": [
    "# McLean' Method"
   ]
  },
  {
   "cell_type": "markdown",
   "id": "ea45d6b8",
   "metadata": {},
   "source": [
    "Doug starts off by assuming that the total flight time is proportional to the energy in the rubber motor divided by the thrust power of the propeller.\n"
   ]
  },
  {
   "cell_type": "markdown",
   "id": "5b81bf68",
   "metadata": {},
   "source": [
    "\\begin{equation}\n",
    "t = \\eta_{av} \\frac{E}{P}\n",
    "\\end{equation}"
   ]
  },
  {
   "cell_type": "markdown",
   "id": "880ddf2f",
   "metadata": {},
   "source": [
    "Where:\n",
    "    \n",
    "- **t** is the flight time in seconds\n",
    "- **E** is the energy stored in the rubber motor in kilogram meters\n",
    "- **P** is the thrust power (thrust x speed) required to stay in level flight in pound-force seconds\n",
    "- $\\eta_{av}$ is a proportionality constant averaged over the entire flight\n"
   ]
  },
  {
   "cell_type": "markdown",
   "id": "a751bc2d",
   "metadata": {},
   "source": [
    "Next, Doug assumes that the energy stored in the motor depends primarily on motor weight according to the formula:"
   ]
  },
  {
   "cell_type": "markdown",
   "id": "8d932a72",
   "metadata": {},
   "source": [
    "\\begin{equation}\n",
    "E = k_m W_m\n",
    "\\end{equation}"
   ]
  },
  {
   "cell_type": "markdown",
   "id": "a4730430",
   "metadata": {},
   "source": [
    "    - k_m is a constant = 30,000 inches\n",
    "    - w_m is the motor weight in grams\n",
    "    \n",
    "We will need to convert these items to a standard energy unit system.\n"
   ]
  },
  {
   "cell_type": "markdown",
   "id": "2dac7e04",
   "metadata": {},
   "source": [
    "to get started, we will set up a few data items from Gary's best flight. We will be using Python pint to track units, so we set that system up first."
   ]
  },
  {
   "cell_type": "code",
   "execution_count": 4,
   "id": "c31082d0",
   "metadata": {},
   "outputs": [],
   "source": [
    "import pint\n",
    "u = pint.UnitRegistry()\n",
    "Q_ = u.Quantity"
   ]
  },
  {
   "cell_type": "code",
   "execution_count": 7,
   "id": "4ac84402",
   "metadata": {},
   "outputs": [],
   "source": [
    "wart_best_time = 618 * u.seconds\n",
    "wart_motor_weight = 0.86 * u.grams\n",
    "motor_turns = 3660\n",
    "kiby_dome_elevation = 2160 * u.feet\n",
    "kiby_dome_height = 150 * u.feet"
   ]
  },
  {
   "cell_type": "markdown",
   "id": "eaec42b1",
   "metadata": {},
   "source": [
    "For the Wart, we get this:"
   ]
  },
  {
   "cell_type": "code",
   "execution_count": 8,
   "id": "cb2eda17",
   "metadata": {},
   "outputs": [
    {
     "name": "stdout",
     "output_type": "stream",
     "text": [
      "0.65532 kilogram * meter\n"
     ]
    }
   ],
   "source": [
    "k_m = 30000 * u.inches\n",
    "E = k_m * wart_motor_weight\n",
    "print(E.to_base_units())"
   ]
  },
  {
   "cell_type": "code",
   "execution_count": null,
   "id": "d3233e1d",
   "metadata": {},
   "outputs": [],
   "source": []
  }
 ],
 "metadata": {
  "kernelspec": {
   "display_name": "Python 3 (ipykernel)",
   "language": "python",
   "name": "python3"
  },
  "language_info": {
   "codemirror_mode": {
    "name": "ipython",
    "version": 3
   },
   "file_extension": ".py",
   "mimetype": "text/x-python",
   "name": "python",
   "nbconvert_exporter": "python",
   "pygments_lexer": "ipython3",
   "version": "3.9.9"
  }
 },
 "nbformat": 4,
 "nbformat_minor": 5
}
